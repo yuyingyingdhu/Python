{
 "cells": [
  {
   "cell_type": "markdown",
   "id": "8147e173",
   "metadata": {},
   "source": [
    "# 第七章 模块"
   ]
  },
  {
   "cell_type": "markdown",
   "id": "5e694501",
   "metadata": {},
   "source": [
    "1. Python 程序由模块组成。一个模块对应 python 源文件，一般后缀名是：.py。\n",
    "\n",
    "2. 模块由语句组成。运行 Python 程序时，按照模块中语句的顺序依次执行。\n",
    "\n",
    "3. 语句是 Python 程序的构造单元，用于创建对象、变量赋值、调用函数、控制语句等。"
   ]
  },
  {
   "cell_type": "markdown",
   "id": "f6961590",
   "metadata": {},
   "source": [
    "函数类似，模块也分为标准库模块和用户自定义模块。\n",
    "\n",
    "Python 标准库提供了操作系统功能、网络通信、文本处理、文件处理、数学运算等基\n",
    "本的功能。比如：random(随机数)、math(数学运算)、time(时间处理)、file(文件处理)、\n",
    "os(和操作系统交互)、sys(和解释器交互)等。\n",
    "\n",
    "另外，Python 还提供了海量的第三方模块，使用方式和标准库类似。功能覆盖了我们\n",
    "能想象到的所有领域，比如：科学计算、WEB 开发、大数据、人工智能、图形系统等"
   ]
  },
  {
   "cell_type": "code",
   "execution_count": null,
   "id": "1c704e08",
   "metadata": {},
   "outputs": [],
   "source": [
    "__doc__,__name__,__main__"
   ]
  },
  {
   "cell_type": "code",
   "execution_count": 54,
   "id": "6849e21e",
   "metadata": {
    "scrolled": false
   },
   "outputs": [],
   "source": [
    "#导入 math 模块，并通过 help()查看 math 模块的 API\n",
    "import math\n",
    "# help(math)"
   ]
  },
  {
   "cell_type": "markdown",
   "id": "ee633066",
   "metadata": {},
   "source": [
    "import 语句的基本语法格式如下：\n",
    "\n",
    "import 模块名#导入一个模块\n",
    "\n",
    "import 模块 1，模块 2… #导入多个模块\n",
    "\n",
    "import 模块名 as 模块别名 #导入模块并使用新名字\n",
    "\n",
    "from 模块名 import 成员 1，成员 2，…\n",
    "\n",
    "import 导入的是模块。from...import 导入的是模块中的一个函数/一个类,无需加模块名。"
   ]
  },
  {
   "cell_type": "markdown",
   "id": "781bee3b",
   "metadata": {},
   "source": [
    "重新加载一个模块：importlib.reload()"
   ]
  },
  {
   "cell_type": "markdown",
   "id": "090db8c4",
   "metadata": {},
   "source": [
    "包(package)=模块(module)+子包(subpackage)"
   ]
  },
  {
   "cell_type": "markdown",
   "id": "c5fd1718",
   "metadata": {},
   "source": [
    "Python 标准库的主要功能有：\n",
    "\n",
    "1. 文本处理，包含文本格式化、正则表达式匹配、文本差异计算与合并、Unicode 支\n",
    "持，二进制数据处理等功能\n",
    "\n",
    "2. 文件处理，包含文件操作、创建临时文件、文件压缩与归档、操作配置文件等功能\n",
    "\n",
    "3. 操作系统功能，包含线程与进程支持、IO 复用、日期与时间处理、调用系统函数、\n",
    "日志（logging）等功能\n",
    "\n",
    "4. 网络通信，包含网络套接字，SSL 加密通信、异步网络通信等功能\n",
    "\n",
    "5. 网络协议，支持 HTTP，FTP，SMTP，POP，IMAP，NNTP，XMLRPC 等多种网\n",
    "络协议，并提供了编写网络服务器的框架\n",
    "\n",
    "6. W3C 格式支持，包含 HTML，SGML，XML 的处理\n",
    "\n",
    "7. 其它功能，包括国际化支持、数学运算、HASH、Tkinter 等\n",
    "\n",
    "目前学过的有：random、math、time、file、os、sys 等模块。可以通过 random 模\n",
    "块实现随机数处理、math 模块实现数学相关的运算、time 模块实现时间的处理、file 模块\n",
    "实现对文件的操作、OS 模块实现和操作系统的交互、sys 模块实现和解释器的交互。"
   ]
  },
  {
   "cell_type": "markdown",
   "id": "e57a0e95",
   "metadata": {},
   "source": [
    "# 第八章 文件操作（IO）"
   ]
  },
  {
   "cell_type": "markdown",
   "id": "59451ce6",
   "metadata": {},
   "source": [
    "文件分为文本文件和二进制文件两大类"
   ]
  },
  {
   "cell_type": "markdown",
   "id": "8366c01b",
   "metadata": {},
   "source": [
    "文本文件的写入一般就是三个步骤：\n",
    "1. 创建文件对象\n",
    "2. 写入数据\n",
    "3. 关闭文件对象"
   ]
  },
  {
   "cell_type": "markdown",
   "id": "2fa2d8bc",
   "metadata": {},
   "source": [
    "windows 操作系统默认的编码是 GBK，Linux 操作系统默认的编码是 UTF-8。当我们\n",
    "用 open()时，调用的是操作系统打开的文件，默认的编码是 GBK。"
   ]
  },
  {
   "cell_type": "code",
   "execution_count": 33,
   "id": "b437b389",
   "metadata": {},
   "outputs": [],
   "source": [
    "#解决中文乱码,encoding=\"utf-8\"\n",
    "f=open(r'a.txt','a',encoding=\"utf-8\")\n",
    "f.write('中文\\n程序员')\n",
    "f.close()"
   ]
  },
  {
   "cell_type": "markdown",
   "id": "6c871007",
   "metadata": {},
   "source": [
    "write()/writelines()写入数据\n",
    "write(a)：把字符串 a 写入到文件中\n",
    "writelines(b)：把字符串列表写入文件中，不添加换行符"
   ]
  },
  {
   "cell_type": "code",
   "execution_count": 19,
   "id": "79ac37d9",
   "metadata": {
    "scrolled": true
   },
   "outputs": [],
   "source": [
    "#文本写入操作\n",
    "f = open(r'a.txt','w')\n",
    "# s='尚学堂\\n 百战程序员\\n尚学'\n",
    "s = [\"高淇\\n\",\"高老三\\n\",\"高老四\\n\"]\n",
    "#f.write(s)#字符串\n",
    "f.writelines(s)#字符串列表\n",
    "f.close()"
   ]
  },
  {
   "cell_type": "code",
   "execution_count": 22,
   "id": "d084426c",
   "metadata": {},
   "outputs": [],
   "source": [
    "# 有问题，没有close，信息也能写入，并没有报错\n",
    "#结合异常机制 finally 确保关闭文件对象\n",
    "try:\n",
    "    f=open(r'b.txt','a')\n",
    "    t='swtswt'\n",
    "    f.write(t)\n",
    "except BaseException as e:\n",
    "    print(e)\n",
    "finally:\n",
    "    f.close()"
   ]
  },
  {
   "cell_type": "code",
   "execution_count": 31,
   "id": "b97ab10a",
   "metadata": {},
   "outputs": [
    {
     "name": "stdout",
     "output_type": "stream",
     "text": [
      "高淇\n",
      "\n",
      "['高老三\\n', '高老四\\n']\n"
     ]
    }
   ],
   "source": [
    "#with 关键字（上下文管理器）可以自动管理上下文资源\n",
    "#不论什么原因跳出 with 块，都能确保文件正确的关闭，\n",
    "#并且可以在代码块执行完毕后自动还原进入该代码块时的现场。\n",
    "with open(r'a.txt','r') as f:\n",
    "#     print(f.read())\n",
    "    print(f.readline())\n",
    "    print(f.readlines())"
   ]
  },
  {
   "cell_type": "markdown",
   "id": "67d644f2",
   "metadata": {},
   "source": [
    "文件的读取一般使用如下三个方法：\n",
    "1. read([size])\n",
    "从文件中读取 size 个字符，并作为结果返回。如果没有 size 参数，则读取整个文件。\n",
    "读取到文件末尾，会返回空字符串。\n",
    "2. readline()\n",
    "读取一行内容作为结果返回。读取到文件末尾，会返回空字符串。\n",
    "3. readlines()\n",
    "文本文件中，每一行作为一个字符串存入列表中，返回该列表"
   ]
  },
  {
   "cell_type": "code",
   "execution_count": 37,
   "id": "0e38e46a",
   "metadata": {},
   "outputs": [
    {
     "name": "stdout",
     "output_type": "stream",
     "text": [
      "高淇\n",
      "高\n"
     ]
    }
   ],
   "source": [
    "#读取一个文件前 4 个字符\n",
    "#注意乱码问题\n",
    "with open(r'a.txt','r',encoding=\"GBK\") as f:\n",
    "    print(f.read(4))"
   ]
  },
  {
   "cell_type": "code",
   "execution_count": 39,
   "id": "473647ad",
   "metadata": {},
   "outputs": [
    {
     "name": "stdout",
     "output_type": "stream",
     "text": [
      "高淇\n",
      "高老三\n",
      "高老四\n",
      "\n"
     ]
    }
   ],
   "source": [
    "#文件较小，一次将文件内容读入到程序中\n",
    "with open(r'a.txt','r',encoding=\"GBK\") as f:\n",
    "    print(f.read())"
   ]
  },
  {
   "cell_type": "code",
   "execution_count": 45,
   "id": "442277c4",
   "metadata": {},
   "outputs": [
    {
     "name": "stdout",
     "output_type": "stream",
     "text": [
      "高淇\n",
      " 高老三\n",
      " 高老四\n",
      " "
     ]
    }
   ],
   "source": [
    "#按行读取一个文件\n",
    "with open(r'a.txt','r',encoding=\"GBK\") as f:\n",
    "    while True:\n",
    "        line = f.readline()\n",
    "        if not line:\n",
    "            break\n",
    "        else:\n",
    "            print(line,end=' ')"
   ]
  },
  {
   "cell_type": "code",
   "execution_count": 46,
   "id": "39162ebb",
   "metadata": {},
   "outputs": [
    {
     "name": "stdout",
     "output_type": "stream",
     "text": [
      "高淇\n",
      " 高老三\n",
      " 高老四\n",
      " "
     ]
    }
   ],
   "source": [
    "#使用迭代器（每次返回一行）读取文本文件\n",
    "with open(r'a.txt','r',encoding=\"GBK\") as f:\n",
    "    for i in f:\n",
    "        print(i,end=' ')"
   ]
  },
  {
   "cell_type": "code",
   "execution_count": 60,
   "id": "bd0283df",
   "metadata": {},
   "outputs": [
    {
     "ename": "TypeError",
     "evalue": "'str' object is not callable",
     "output_type": "error",
     "traceback": [
      "\u001b[1;31m---------------------------------------------------------------------------\u001b[0m",
      "\u001b[1;31mTypeError\u001b[0m                                 Traceback (most recent call last)",
      "\u001b[1;32m~\\AppData\\Local\\Temp\\ipykernel_17696\\266908715.py\u001b[0m in \u001b[0;36m<module>\u001b[1;34m\u001b[0m\n\u001b[0;32m      1\u001b[0m \u001b[1;32mwith\u001b[0m \u001b[0mopen\u001b[0m\u001b[1;33m(\u001b[0m\u001b[1;34m\"a.txt\"\u001b[0m\u001b[1;33m,\u001b[0m\u001b[1;34m\"r\"\u001b[0m\u001b[1;33m,\u001b[0m\u001b[0mencoding\u001b[0m\u001b[1;33m=\u001b[0m\u001b[1;34m\"GBK\"\u001b[0m\u001b[1;33m)\u001b[0m \u001b[1;32mas\u001b[0m \u001b[0mf\u001b[0m\u001b[1;33m:\u001b[0m\u001b[1;33m\u001b[0m\u001b[1;33m\u001b[0m\u001b[0m\n\u001b[0;32m      2\u001b[0m     \u001b[0mlines\u001b[0m \u001b[1;33m=\u001b[0m \u001b[0mf\u001b[0m\u001b[1;33m.\u001b[0m\u001b[0mreadlines\u001b[0m\u001b[1;33m(\u001b[0m\u001b[1;33m)\u001b[0m\u001b[1;33m\u001b[0m\u001b[1;33m\u001b[0m\u001b[0m\n\u001b[1;32m----> 3\u001b[1;33m     lines = [ line.rstrip()+\" #\"+str(index+1)+\"\\n\" for index,line in\n\u001b[0m\u001b[0;32m      4\u001b[0m enumerate(lines)] #推导式生成列表\n\u001b[0;32m      5\u001b[0m \u001b[1;32mwith\u001b[0m \u001b[0mopen\u001b[0m\u001b[1;33m(\u001b[0m\u001b[1;34m\"a.txt\"\u001b[0m\u001b[1;33m,\u001b[0m\u001b[1;34m\"w\"\u001b[0m\u001b[1;33m,\u001b[0m\u001b[0mencoding\u001b[0m\u001b[1;33m=\u001b[0m\u001b[1;34m\"GBK\"\u001b[0m\u001b[1;33m)\u001b[0m \u001b[1;32mas\u001b[0m \u001b[0mf\u001b[0m\u001b[1;33m:\u001b[0m\u001b[1;33m\u001b[0m\u001b[1;33m\u001b[0m\u001b[0m\n",
      "\u001b[1;32m~\\AppData\\Local\\Temp\\ipykernel_17696\\266908715.py\u001b[0m in \u001b[0;36m<listcomp>\u001b[1;34m(.0)\u001b[0m\n\u001b[0;32m      1\u001b[0m \u001b[1;32mwith\u001b[0m \u001b[0mopen\u001b[0m\u001b[1;33m(\u001b[0m\u001b[1;34m\"a.txt\"\u001b[0m\u001b[1;33m,\u001b[0m\u001b[1;34m\"r\"\u001b[0m\u001b[1;33m,\u001b[0m\u001b[0mencoding\u001b[0m\u001b[1;33m=\u001b[0m\u001b[1;34m\"GBK\"\u001b[0m\u001b[1;33m)\u001b[0m \u001b[1;32mas\u001b[0m \u001b[0mf\u001b[0m\u001b[1;33m:\u001b[0m\u001b[1;33m\u001b[0m\u001b[1;33m\u001b[0m\u001b[0m\n\u001b[0;32m      2\u001b[0m     \u001b[0mlines\u001b[0m \u001b[1;33m=\u001b[0m \u001b[0mf\u001b[0m\u001b[1;33m.\u001b[0m\u001b[0mreadlines\u001b[0m\u001b[1;33m(\u001b[0m\u001b[1;33m)\u001b[0m\u001b[1;33m\u001b[0m\u001b[1;33m\u001b[0m\u001b[0m\n\u001b[1;32m----> 3\u001b[1;33m     lines = [ line.rstrip()+\" #\"+str(index+1)+\"\\n\" for index,line in\n\u001b[0m\u001b[0;32m      4\u001b[0m enumerate(lines)] #推导式生成列表\n\u001b[0;32m      5\u001b[0m \u001b[1;32mwith\u001b[0m \u001b[0mopen\u001b[0m\u001b[1;33m(\u001b[0m\u001b[1;34m\"a.txt\"\u001b[0m\u001b[1;33m,\u001b[0m\u001b[1;34m\"w\"\u001b[0m\u001b[1;33m,\u001b[0m\u001b[0mencoding\u001b[0m\u001b[1;33m=\u001b[0m\u001b[1;34m\"GBK\"\u001b[0m\u001b[1;33m)\u001b[0m \u001b[1;32mas\u001b[0m \u001b[0mf\u001b[0m\u001b[1;33m:\u001b[0m\u001b[1;33m\u001b[0m\u001b[1;33m\u001b[0m\u001b[0m\n",
      "\u001b[1;31mTypeError\u001b[0m: 'str' object is not callable"
     ]
    }
   ],
   "source": [
    "#有问题？\n",
    "#为文本文件每一行的末尾增加行号\n",
    "with open(\"a.txt\",\"r\",encoding=\"GBK\") as f:\n",
    "    lines = f.readlines()\n",
    "    lines = [ line.rstrip()+\" #\"+str(index+1)+\"\\n\" for index,line in\n",
    "enumerate(lines)] #推导式生成列表\n",
    "with open(\"a.txt\",\"w\",encoding=\"GBK\") as f:\n",
    "    f.writelines(lines)"
   ]
  },
  {
   "cell_type": "markdown",
   "id": "b7a10faa",
   "metadata": {},
   "source": [
    "二进制文件的读取和写入\n",
    "f = open(r\"d:\\a.txt\", 'wb') #可写的、重写模式的二进制文件对象\n",
    "\n",
    "f = open(r\"d:\\a.txt\", 'ab') #可写的、追加模式的二进制文件对象\n",
    "\n",
    "f = open(r\"d:\\a.txt\", 'rb') #可读的二进制文件对象"
   ]
  },
  {
   "cell_type": "code",
   "execution_count": null,
   "id": "fca7d399",
   "metadata": {},
   "outputs": [],
   "source": [
    "#读取图片文件，实现文件的拷贝\n",
    "with open('aa.gif', 'rb') as f:\n",
    "    with open('aa_copy.gif', 'wb') as w:\n",
    "        for line in f.readlines():\n",
    "            w.write(line)\n",
    "print('图片拷贝完成！')"
   ]
  },
  {
   "cell_type": "code",
   "execution_count": 67,
   "id": "1d923591",
   "metadata": {},
   "outputs": [
    {
     "name": "stdout",
     "output_type": "stream",
     "text": [
      "文件名是：a.txt\n",
      "0\n",
      "读取的内容是：高淇\n",
      "\n",
      "6\n",
      "读取的内容是：高老三\n",
      "\n",
      "14\n"
     ]
    }
   ],
   "source": [
    "#tell()返回文件指针的当前位置\n",
    "with open(\"a.txt\",\"r\",encoding=\"GBK\") as f:\n",
    "    print('文件名是：{}'.format(f.name))\n",
    "    print(f.tell())\n",
    "    \n",
    "    print('读取的内容是：{}'.format(f.readline()))\n",
    "    print(f.tell())\n",
    "    \n",
    "#     f.seek(0,0)\n",
    "    print('读取的内容是：{}'.format(f.readline()))\n",
    "    print(f.tell())"
   ]
  },
  {
   "cell_type": "code",
   "execution_count": 41,
   "id": "dba1bcf0",
   "metadata": {},
   "outputs": [
    {
     "name": "stdout",
     "output_type": "stream",
     "text": [
      "a.txt\n",
      "0\n",
      "高淇\n",
      "\n",
      "6\n",
      "高老三\n",
      "\n",
      "0\n",
      "0\n",
      "高淇\n",
      "\n"
     ]
    }
   ],
   "source": [
    "#文件任意位置操作\n",
    "with open(r'a.txt','r') as f:\n",
    "    print(f.name)\n",
    "    print(f.tell())\n",
    "    \n",
    "    print(f.readline())\n",
    "    print(f.tell())\n",
    "    \n",
    "    print(f.readline())\n",
    "    print(f.seek(0,0))\n",
    "    print(f.tell())\n",
    "    print(f.readline())"
   ]
  },
  {
   "cell_type": "markdown",
   "id": "4d12f67e",
   "metadata": {},
   "source": [
    "序列化我们使用：\n",
    "\n",
    "pickle.dump(obj, file) obj 就是要被序列化的对象，file 指的是存储的文件\n",
    "\n",
    "pickle.load(file) 从 file 读取数据，反序列化成对象"
   ]
  },
  {
   "cell_type": "code",
   "execution_count": 68,
   "id": "0c9dd4a7",
   "metadata": {},
   "outputs": [],
   "source": [
    "#将对象序列化到文件中\n",
    "import pickle\n",
    "with open(r'b.txt','wb') as f:\n",
    "    a1 = \"高淇\"\n",
    "    a2 = 234\n",
    "    a3 = [20,30,40]   \n",
    "    \n",
    "    pickle.dump(a1,f)\n",
    "    pickle.dump(a2,f)\n",
    "    pickle.dump(a3,f)"
   ]
  },
  {
   "cell_type": "code",
   "execution_count": 72,
   "id": "cd3362cf",
   "metadata": {},
   "outputs": [
    {
     "name": "stdout",
     "output_type": "stream",
     "text": [
      "高淇\n",
      "234\n",
      "[20, 30, 40]\n"
     ]
    }
   ],
   "source": [
    "#将获得的数据反序列化成对象\n",
    "with open(r'b.txt','rb') as f:\n",
    "    print(pickle.load(f))\n",
    "    print(pickle.load(f))\n",
    "    print(pickle.load(f))"
   ]
  },
  {
   "cell_type": "markdown",
   "id": "fd3db2b6",
   "metadata": {},
   "source": [
    "sv(Comma Separated Values)是逗号分隔符文本格式，常用于数据交换、Excel\n",
    "文件和数据库数据的导入和导出。\n",
    "\n",
    "与 Excel 文件不同，CSV 文件中：\n",
    "值没有类型，所有值都是字符串;\n",
    "不能指定字体颜色等样式;\n",
    "不能指定单元格的宽高，不能合并单元格;"
   ]
  },
  {
   "cell_type": "code",
   "execution_count": 50,
   "id": "e08a89ce",
   "metadata": {},
   "outputs": [
    {
     "name": "stdout",
     "output_type": "stream",
     "text": [
      "['姓名', '年龄', '工作', '薪水']\n",
      "['高淇', '18', '程序员', '50000']\n",
      "['高老三', '19', '测试工程师', '20000']\n",
      "['高老五', '20', '人工智能开发', '50000']\n"
     ]
    }
   ],
   "source": [
    "#csv.reader 对象于从 csv 文件读取数据\n",
    "import csv\n",
    "\n",
    "with open(r'b.csv') as f:\n",
    "    a_csv = csv.reader(f)#创建 csv 对象,它是一个包含所有数据的列表，每一行为一个元素\n",
    "    headers = next(a_csv)#获得列表对象，包含标题行的信息\n",
    "    print(headers)\n",
    "    \n",
    "    for line in a_csv:#循环打印各行内容\n",
    "        print(line)"
   ]
  },
  {
   "cell_type": "code",
   "execution_count": 85,
   "id": "01d46a61",
   "metadata": {},
   "outputs": [],
   "source": [
    "##csv.writer 对象写一个 csv 文件\n",
    "import csv\n",
    "headers = [\"工号\",\"姓名\",\"年龄\",\"地址\",\"月薪\"]\n",
    "rows = [(\"1001\",\"高淇\",18,\"西三旗 1 号院\",\"50000\"),(\"1002\",\"高八\",19,\"西三旗 1 号院\",\"30000\")]\n",
    "\n",
    "#newline,避免写入时候添加空行\n",
    "with open(r'b.csv','w',newline='') as f:\n",
    "    k=csv.writer(f)\n",
    "    k.writerow(headers)\n",
    "    k.writerows(rows)"
   ]
  },
  {
   "cell_type": "markdown",
   "id": "d12549b8",
   "metadata": {},
   "source": [
    "os 模块-调用操作系统命令\n",
    "\n",
    "os 模块：创建、删除目录、获取文件信息等\n",
    "\n",
    "os.path 模块提供了目录相关（路径判断、路径切分、路径连接、文件夹遍历）的操作"
   ]
  },
  {
   "cell_type": "code",
   "execution_count": 87,
   "id": "5870cfe9",
   "metadata": {},
   "outputs": [
    {
     "data": {
      "text/plain": [
       "0"
      ]
     },
     "execution_count": 87,
     "metadata": {},
     "output_type": "execute_result"
    }
   ],
   "source": [
    "#os.system 可以帮助我们直接调用系统的命令\n",
    "#记事本之前要关闭\n",
    "import os\n",
    "os.system(\"notepad.exe\")"
   ]
  },
  {
   "cell_type": "code",
   "execution_count": 89,
   "id": "adc2cc6a",
   "metadata": {},
   "outputs": [
    {
     "data": {
      "text/plain": [
       "0"
      ]
     },
     "execution_count": 89,
     "metadata": {},
     "output_type": "execute_result"
    }
   ],
   "source": [
    "os.system(\"ping www.baidu.com\")"
   ]
  },
  {
   "cell_type": "code",
   "execution_count": 88,
   "id": "649844f3",
   "metadata": {},
   "outputs": [],
   "source": [
    "#运行安装好的微信\n",
    "os.startfile(r\"C:\\Program Files (x86)\\Tencent\\WeChat\\WeChat.exe\")"
   ]
  },
  {
   "cell_type": "code",
   "execution_count": 90,
   "id": "640ef905",
   "metadata": {},
   "outputs": [
    {
     "name": "stdout",
     "output_type": "stream",
     "text": [
      "nt\n"
     ]
    }
   ],
   "source": [
    "print(os.name)"
   ]
  },
  {
   "cell_type": "code",
   "execution_count": 91,
   "id": "81e1d174",
   "metadata": {},
   "outputs": [
    {
     "name": "stdout",
     "output_type": "stream",
     "text": [
      "os.stat_result(st_mode=33206, st_ino=8162774324785476, st_dev=2799652831, st_nlink=1, st_uid=0, st_gid=0, st_size=22, st_atime=1676964496, st_mtime=1676964496, st_ctime=1676961435)\n"
     ]
    }
   ],
   "source": [
    "#print(os.stat('a.txt'))\n",
    "print(os.stat('a.txt'))"
   ]
  },
  {
   "cell_type": "code",
   "execution_count": 92,
   "id": "5787ccd0",
   "metadata": {},
   "outputs": [
    {
     "name": "stdout",
     "output_type": "stream",
     "text": [
      "os.stat_result(st_mode=33206, st_ino=1688849860444602, st_dev=2799652831, st_nlink=1, st_uid=0, st_gid=0, st_size=97, st_atime=1676975468, st_mtime=1676975468, st_ctime=1676273658)\n"
     ]
    }
   ],
   "source": [
    "print(os.stat('a.csv'))"
   ]
  },
  {
   "cell_type": "markdown",
   "id": "3f108ab6",
   "metadata": {},
   "source": [
    "使用 walk()递归遍历所有文件和目录"
   ]
  },
  {
   "cell_type": "markdown",
   "id": "9ddec05a",
   "metadata": {},
   "source": [
    "shutil 模块是 python 标准库中提供的，主要用来做文件和文件夹的拷贝、移动、删除等；还可以做\n",
    "文件和文件夹的压缩、解压缩操作。\n",
    "\n",
    "os 模块提供了对目录或文件的一般操作。shutil 模块作为补充，提供了移动、复制、压缩、解压等操\n",
    "作，这些 os 模块都没有提供。"
   ]
  },
  {
   "cell_type": "markdown",
   "id": "023cb9da",
   "metadata": {},
   "source": [
    "递归的缺陷\n",
    "简单的程序是递归的优点之一。但是递归调用会占用大量的系统堆栈，内存耗用多，在递\n",
    "归调用层次多时速度要比循环慢的多，所以在使用递归时要慎重。"
   ]
  },
  {
   "cell_type": "code",
   "execution_count": 100,
   "id": "aa1eec15",
   "metadata": {},
   "outputs": [
    {
     "name": "stdout",
     "output_type": "stream",
     "text": [
      "1 != 1\n",
      "2 != 2\n",
      "3 != 6\n",
      "4 != 24\n",
      "5 != 120\n",
      "6 != 720\n",
      "7 != 5040\n",
      "8 != 40320\n",
      "9 != 362880\n"
     ]
    }
   ],
   "source": [
    "#使用递归求 n!\n",
    "def f(n):\n",
    "    if n==1:\n",
    "        return 1\n",
    "    else:\n",
    "        return n*f(n-1)\n",
    "    \n",
    "for i in range(1,10):\n",
    "    print(i,'!=',f(i))\n",
    "    "
   ]
  },
  {
   "cell_type": "markdown",
   "id": "f976b544",
   "metadata": {},
   "source": [
    "# 第九章 异常和错误"
   ]
  },
  {
   "cell_type": "markdown",
   "id": "b999a2ed",
   "metadata": {},
   "source": [
    "所谓异常处理，就是指程序在出现问题时依然可以正确的执行剩余的程序，而\n",
    "不会因为异常而终止程序执行。"
   ]
  },
  {
   "cell_type": "markdown",
   "id": "53ae4eaf",
   "metadata": {},
   "source": [
    "try...except 是最常见的异常处理结构\n",
    "\n",
    "try...except...else 结构增加了“else 块”。如果 try 块中没有抛出异常，则执行 else 块。如果\n",
    "try 块中抛出异常，则执行 except 块，不执行 else 块。\n",
    "\n",
    "try...except...finally 结构中，finally 块无论是否发生异常都会被执行；通常用来释放 try 块中\n",
    "申请的资源。"
   ]
  },
  {
   "cell_type": "markdown",
   "id": "4387d1a1",
   "metadata": {},
   "source": [
    "由于 return 有两种作用：结束方法运行、返回值。我们一般不把 return 放到异常处理结构\n",
    "中，而是放到方法最"
   ]
  },
  {
   "cell_type": "markdown",
   "id": "8e1f14f1",
   "metadata": {},
   "source": [
    "with 上下文管理可以自动管理资源，在 with 代码块执行完毕后自动还原进入该代码之前的\n",
    "现场或上下文。不论何种原因跳出 with 块，不论是否有异常，总能保证资源正常释放。极\n",
    "大的简化了工作，在文件操作、网络通信相关的场合非常常用。"
   ]
  },
  {
   "cell_type": "code",
   "execution_count": 103,
   "id": "ee2e5a2e",
   "metadata": {},
   "outputs": [
    {
     "name": "stdout",
     "output_type": "stream",
     "text": [
      "step1\n"
     ]
    },
    {
     "name": "stderr",
     "output_type": "stream",
     "text": [
      "Traceback (most recent call last):\n",
      "  File \"C:\\Users\\Administrator\\AppData\\Local\\Temp\\ipykernel_17696\\3334319332.py\", line 6, in <module>\n",
      "    num=3/0\n",
      "ZeroDivisionError: division by zero\n"
     ]
    }
   ],
   "source": [
    "#使用 Traceback 模块打印异常信息\n",
    "import traceback\n",
    "\n",
    "try:\n",
    "    print('step1')\n",
    "    num=3/0\n",
    "except:\n",
    "    traceback.print_exc()"
   ]
  },
  {
   "cell_type": "code",
   "execution_count": 105,
   "id": "27b6fc32",
   "metadata": {},
   "outputs": [
    {
     "name": "stdout",
     "output_type": "stream",
     "text": [
      "step1\n"
     ]
    }
   ],
   "source": [
    "#使用 traceback 将异常信息写入日志文件\n",
    "#coding=utf-8\n",
    "import traceback\n",
    "try:\n",
    "    print(\"step1\")\n",
    "    num = 1/0\n",
    "except:\n",
    "    with open(\"a.log\",\"a\") as f:\n",
    "        traceback.print_exc(file=f)"
   ]
  },
  {
   "cell_type": "code",
   "execution_count": 112,
   "id": "3f2d0256",
   "metadata": {},
   "outputs": [
    {
     "name": "stdout",
     "output_type": "stream",
     "text": [
      "178\n"
     ]
    },
    {
     "ename": "TypeError",
     "evalue": "'str' object is not callable",
     "output_type": "error",
     "traceback": [
      "\u001b[1;31m---------------------------------------------------------------------------\u001b[0m",
      "\u001b[1;31mAgeError\u001b[0m                                  Traceback (most recent call last)",
      "    \u001b[1;31m[... skipping hidden 1 frame]\u001b[0m\n",
      "\u001b[1;32m~\\AppData\\Local\\Temp\\ipykernel_17696\\4246130393.py\u001b[0m in \u001b[0;36m<module>\u001b[1;34m\u001b[0m\n\u001b[0;32m     12\u001b[0m     \u001b[1;32mif\u001b[0m \u001b[0mage\u001b[0m\u001b[1;33m<\u001b[0m\u001b[1;36m1\u001b[0m \u001b[1;32mor\u001b[0m \u001b[0mage\u001b[0m\u001b[1;33m>\u001b[0m\u001b[1;36m150\u001b[0m\u001b[1;33m:\u001b[0m\u001b[1;33m\u001b[0m\u001b[1;33m\u001b[0m\u001b[0m\n\u001b[1;32m---> 13\u001b[1;33m         \u001b[1;32mraise\u001b[0m \u001b[0mAgeError\u001b[0m\u001b[1;33m(\u001b[0m\u001b[0mage\u001b[0m\u001b[1;33m)\u001b[0m\u001b[1;33m\u001b[0m\u001b[1;33m\u001b[0m\u001b[0m\n\u001b[0m\u001b[0;32m     14\u001b[0m     \u001b[1;32melse\u001b[0m\u001b[1;33m:\u001b[0m\u001b[1;33m\u001b[0m\u001b[1;33m\u001b[0m\u001b[0m\n",
      "\u001b[1;31m<class 'str'>\u001b[0m: (<class 'TypeError'>, TypeError(\"'str' object is not callable\"))",
      "\nDuring handling of the above exception, another exception occurred:\n",
      "\u001b[1;31mTypeError\u001b[0m                                 Traceback (most recent call last)",
      "    \u001b[1;31m[... skipping hidden 1 frame]\u001b[0m\n",
      "\u001b[1;32mD:\\ProgramFiles\\anoconda\\lib\\site-packages\\IPython\\core\\interactiveshell.py\u001b[0m in \u001b[0;36mshowtraceback\u001b[1;34m(self, exc_tuple, filename, tb_offset, exception_only, running_compiled_code)\u001b[0m\n\u001b[0;32m   2080\u001b[0m                                             value, tb, tb_offset=tb_offset)\n\u001b[0;32m   2081\u001b[0m \u001b[1;33m\u001b[0m\u001b[0m\n\u001b[1;32m-> 2082\u001b[1;33m                     \u001b[0mself\u001b[0m\u001b[1;33m.\u001b[0m\u001b[0m_showtraceback\u001b[0m\u001b[1;33m(\u001b[0m\u001b[0metype\u001b[0m\u001b[1;33m,\u001b[0m \u001b[0mvalue\u001b[0m\u001b[1;33m,\u001b[0m \u001b[0mstb\u001b[0m\u001b[1;33m)\u001b[0m\u001b[1;33m\u001b[0m\u001b[1;33m\u001b[0m\u001b[0m\n\u001b[0m\u001b[0;32m   2083\u001b[0m                     \u001b[1;32mif\u001b[0m \u001b[0mself\u001b[0m\u001b[1;33m.\u001b[0m\u001b[0mcall_pdb\u001b[0m\u001b[1;33m:\u001b[0m\u001b[1;33m\u001b[0m\u001b[1;33m\u001b[0m\u001b[0m\n\u001b[0;32m   2084\u001b[0m                         \u001b[1;31m# drop into debugger\u001b[0m\u001b[1;33m\u001b[0m\u001b[1;33m\u001b[0m\u001b[0m\n",
      "\u001b[1;32mD:\\ProgramFiles\\anoconda\\lib\\site-packages\\ipykernel\\zmqshell.py\u001b[0m in \u001b[0;36m_showtraceback\u001b[1;34m(self, etype, evalue, stb)\u001b[0m\n\u001b[0;32m    536\u001b[0m             \u001b[1;34m\"traceback\"\u001b[0m\u001b[1;33m:\u001b[0m \u001b[0mstb\u001b[0m\u001b[1;33m,\u001b[0m\u001b[1;33m\u001b[0m\u001b[1;33m\u001b[0m\u001b[0m\n\u001b[0;32m    537\u001b[0m             \u001b[1;34m\"ename\"\u001b[0m\u001b[1;33m:\u001b[0m \u001b[0mstr\u001b[0m\u001b[1;33m(\u001b[0m\u001b[0metype\u001b[0m\u001b[1;33m.\u001b[0m\u001b[0m__name__\u001b[0m\u001b[1;33m)\u001b[0m\u001b[1;33m,\u001b[0m\u001b[1;33m\u001b[0m\u001b[1;33m\u001b[0m\u001b[0m\n\u001b[1;32m--> 538\u001b[1;33m             \u001b[1;34m\"evalue\"\u001b[0m\u001b[1;33m:\u001b[0m \u001b[0mstr\u001b[0m\u001b[1;33m(\u001b[0m\u001b[0mevalue\u001b[0m\u001b[1;33m)\u001b[0m\u001b[1;33m,\u001b[0m\u001b[1;33m\u001b[0m\u001b[1;33m\u001b[0m\u001b[0m\n\u001b[0m\u001b[0;32m    539\u001b[0m         }\n\u001b[0;32m    540\u001b[0m \u001b[1;33m\u001b[0m\u001b[0m\n",
      "\u001b[1;32m~\\AppData\\Local\\Temp\\ipykernel_17696\\4246130393.py\u001b[0m in \u001b[0;36m__str__\u001b[1;34m(self)\u001b[0m\n\u001b[0;32m      6\u001b[0m         \u001b[0mself\u001b[0m\u001b[1;33m.\u001b[0m\u001b[0merrorInfo\u001b[0m\u001b[1;33m=\u001b[0m\u001b[0merrorInfo\u001b[0m\u001b[1;33m\u001b[0m\u001b[1;33m\u001b[0m\u001b[0m\n\u001b[0;32m      7\u001b[0m     \u001b[1;32mdef\u001b[0m \u001b[0m__str__\u001b[0m\u001b[1;33m(\u001b[0m\u001b[0mself\u001b[0m\u001b[1;33m)\u001b[0m\u001b[1;33m:\u001b[0m\u001b[1;33m\u001b[0m\u001b[1;33m\u001b[0m\u001b[0m\n\u001b[1;32m----> 8\u001b[1;33m         \u001b[1;32mreturn\u001b[0m \u001b[0mstr\u001b[0m\u001b[1;33m(\u001b[0m\u001b[0mself\u001b[0m\u001b[1;33m.\u001b[0m\u001b[0merrorInfo\u001b[0m\u001b[1;33m)\u001b[0m\u001b[1;33m+\u001b[0m\u001b[1;34m'年龄错误'\u001b[0m\u001b[1;33m\u001b[0m\u001b[1;33m\u001b[0m\u001b[0m\n\u001b[0m\u001b[0;32m      9\u001b[0m \u001b[1;33m\u001b[0m\u001b[0m\n\u001b[0;32m     10\u001b[0m \u001b[1;32mif\u001b[0m \u001b[0m__name__\u001b[0m\u001b[1;33m==\u001b[0m\u001b[1;34m'__main__'\u001b[0m\u001b[1;33m:\u001b[0m\u001b[1;33m\u001b[0m\u001b[1;33m\u001b[0m\u001b[0m\n",
      "\u001b[1;31mTypeError\u001b[0m: 'str' object is not callable"
     ]
    }
   ],
   "source": [
    "#自定义异常类一般都是运行时异常，通常继承 Exception 或其子类即可。命名一般以 Error、Exception 为后缀。\n",
    "class AgeError(Exception):\n",
    "    \n",
    "    def __init__(self,errorInfo):\n",
    "        Exception.__init__(self)\n",
    "        self.errorInfo=errorInfo\n",
    "    def __str__(self):\n",
    "        return str(self.errorInfo)+'年龄错误'\n",
    "    \n",
    "if __name__=='__main__':\n",
    "    age=int(input())\n",
    "    if age<1 or age>150:\n",
    "        raise AgeError(age)\n",
    "    else:\n",
    "        print(age)"
   ]
  },
  {
   "cell_type": "code",
   "execution_count": 114,
   "id": "c5feecc6",
   "metadata": {},
   "outputs": [
    {
     "name": "stdout",
     "output_type": "stream",
     "text": [
      "输入一个年龄:178\n"
     ]
    },
    {
     "ename": "TypeError",
     "evalue": "'str' object is not callable",
     "output_type": "error",
     "traceback": [
      "\u001b[1;31m---------------------------------------------------------------------------\u001b[0m",
      "\u001b[1;31mAgeError\u001b[0m                                  Traceback (most recent call last)",
      "    \u001b[1;31m[... skipping hidden 1 frame]\u001b[0m\n",
      "\u001b[1;32m~\\AppData\\Local\\Temp\\ipykernel_17696\\270180637.py\u001b[0m in \u001b[0;36m<module>\u001b[1;34m\u001b[0m\n\u001b[0;32m     12\u001b[0m     \u001b[1;32mif\u001b[0m \u001b[0mage\u001b[0m\u001b[1;33m<\u001b[0m\u001b[1;36m1\u001b[0m \u001b[1;32mor\u001b[0m \u001b[0mage\u001b[0m\u001b[1;33m>\u001b[0m\u001b[1;36m150\u001b[0m\u001b[1;33m:\u001b[0m\u001b[1;33m\u001b[0m\u001b[1;33m\u001b[0m\u001b[0m\n\u001b[1;32m---> 13\u001b[1;33m         \u001b[1;32mraise\u001b[0m \u001b[0mAgeError\u001b[0m\u001b[1;33m(\u001b[0m\u001b[0mage\u001b[0m\u001b[1;33m)\u001b[0m\u001b[1;33m\u001b[0m\u001b[1;33m\u001b[0m\u001b[0m\n\u001b[0m\u001b[0;32m     14\u001b[0m     \u001b[1;32melse\u001b[0m\u001b[1;33m:\u001b[0m\u001b[1;33m\u001b[0m\u001b[1;33m\u001b[0m\u001b[0m\n",
      "\u001b[1;31m<class 'str'>\u001b[0m: (<class 'TypeError'>, TypeError(\"'str' object is not callable\"))",
      "\nDuring handling of the above exception, another exception occurred:\n",
      "\u001b[1;31mTypeError\u001b[0m                                 Traceback (most recent call last)",
      "    \u001b[1;31m[... skipping hidden 1 frame]\u001b[0m\n",
      "\u001b[1;32mD:\\ProgramFiles\\anoconda\\lib\\site-packages\\IPython\\core\\interactiveshell.py\u001b[0m in \u001b[0;36mshowtraceback\u001b[1;34m(self, exc_tuple, filename, tb_offset, exception_only, running_compiled_code)\u001b[0m\n\u001b[0;32m   2080\u001b[0m                                             value, tb, tb_offset=tb_offset)\n\u001b[0;32m   2081\u001b[0m \u001b[1;33m\u001b[0m\u001b[0m\n\u001b[1;32m-> 2082\u001b[1;33m                     \u001b[0mself\u001b[0m\u001b[1;33m.\u001b[0m\u001b[0m_showtraceback\u001b[0m\u001b[1;33m(\u001b[0m\u001b[0metype\u001b[0m\u001b[1;33m,\u001b[0m \u001b[0mvalue\u001b[0m\u001b[1;33m,\u001b[0m \u001b[0mstb\u001b[0m\u001b[1;33m)\u001b[0m\u001b[1;33m\u001b[0m\u001b[1;33m\u001b[0m\u001b[0m\n\u001b[0m\u001b[0;32m   2083\u001b[0m                     \u001b[1;32mif\u001b[0m \u001b[0mself\u001b[0m\u001b[1;33m.\u001b[0m\u001b[0mcall_pdb\u001b[0m\u001b[1;33m:\u001b[0m\u001b[1;33m\u001b[0m\u001b[1;33m\u001b[0m\u001b[0m\n\u001b[0;32m   2084\u001b[0m                         \u001b[1;31m# drop into debugger\u001b[0m\u001b[1;33m\u001b[0m\u001b[1;33m\u001b[0m\u001b[0m\n",
      "\u001b[1;32mD:\\ProgramFiles\\anoconda\\lib\\site-packages\\ipykernel\\zmqshell.py\u001b[0m in \u001b[0;36m_showtraceback\u001b[1;34m(self, etype, evalue, stb)\u001b[0m\n\u001b[0;32m    536\u001b[0m             \u001b[1;34m\"traceback\"\u001b[0m\u001b[1;33m:\u001b[0m \u001b[0mstb\u001b[0m\u001b[1;33m,\u001b[0m\u001b[1;33m\u001b[0m\u001b[1;33m\u001b[0m\u001b[0m\n\u001b[0;32m    537\u001b[0m             \u001b[1;34m\"ename\"\u001b[0m\u001b[1;33m:\u001b[0m \u001b[0mstr\u001b[0m\u001b[1;33m(\u001b[0m\u001b[0metype\u001b[0m\u001b[1;33m.\u001b[0m\u001b[0m__name__\u001b[0m\u001b[1;33m)\u001b[0m\u001b[1;33m,\u001b[0m\u001b[1;33m\u001b[0m\u001b[1;33m\u001b[0m\u001b[0m\n\u001b[1;32m--> 538\u001b[1;33m             \u001b[1;34m\"evalue\"\u001b[0m\u001b[1;33m:\u001b[0m \u001b[0mstr\u001b[0m\u001b[1;33m(\u001b[0m\u001b[0mevalue\u001b[0m\u001b[1;33m)\u001b[0m\u001b[1;33m,\u001b[0m\u001b[1;33m\u001b[0m\u001b[1;33m\u001b[0m\u001b[0m\n\u001b[0m\u001b[0;32m    539\u001b[0m         }\n\u001b[0;32m    540\u001b[0m \u001b[1;33m\u001b[0m\u001b[0m\n",
      "\u001b[1;32m~\\AppData\\Local\\Temp\\ipykernel_17696\\270180637.py\u001b[0m in \u001b[0;36m__str__\u001b[1;34m(self)\u001b[0m\n\u001b[0;32m      6\u001b[0m         \u001b[0mself\u001b[0m\u001b[1;33m.\u001b[0m\u001b[0merrorInfo\u001b[0m \u001b[1;33m=\u001b[0m \u001b[0merrorInfo\u001b[0m\u001b[1;33m\u001b[0m\u001b[1;33m\u001b[0m\u001b[0m\n\u001b[0;32m      7\u001b[0m     \u001b[1;32mdef\u001b[0m \u001b[0m__str__\u001b[0m\u001b[1;33m(\u001b[0m\u001b[0mself\u001b[0m\u001b[1;33m)\u001b[0m\u001b[1;33m:\u001b[0m\u001b[1;33m\u001b[0m\u001b[1;33m\u001b[0m\u001b[0m\n\u001b[1;32m----> 8\u001b[1;33m         \u001b[1;32mreturn\u001b[0m \u001b[0mstr\u001b[0m\u001b[1;33m(\u001b[0m\u001b[0mself\u001b[0m\u001b[1;33m.\u001b[0m\u001b[0merrorInfo\u001b[0m\u001b[1;33m)\u001b[0m\u001b[1;33m+\u001b[0m\u001b[1;34m\",年龄错误！应该在 1-150 之间\"\u001b[0m\u001b[1;33m\u001b[0m\u001b[1;33m\u001b[0m\u001b[0m\n\u001b[0m\u001b[0;32m      9\u001b[0m \u001b[1;31m############测试代码################\u001b[0m\u001b[1;33m\u001b[0m\u001b[1;33m\u001b[0m\u001b[0m\n\u001b[0;32m     10\u001b[0m \u001b[1;32mif\u001b[0m \u001b[0m__name__\u001b[0m\u001b[1;33m==\u001b[0m\u001b[1;34m'__main__'\u001b[0m\u001b[1;33m:\u001b[0m \u001b[1;31m#如果为 True，则模块是作为独立文件运行，可以执行测试代码\u001b[0m\u001b[1;33m\u001b[0m\u001b[1;33m\u001b[0m\u001b[0m\n",
      "\u001b[1;31mTypeError\u001b[0m: 'str' object is not callable"
     ]
    }
   ],
   "source": [
    "#coding=utf-8\n",
    "#测试自定义异常类\n",
    "class AgeError(Exception): #继承 Exception\n",
    "    def __init__(self,errorInfo):\n",
    "        Exception.__init__(self)\n",
    "        self.errorInfo = errorInfo\n",
    "    def __str__(self):\n",
    "        return str(self.errorInfo)+\",年龄错误！应该在 1-150 之间\"\n",
    "############测试代码################\n",
    "if __name__=='__main__': #如果为 True，则模块是作为独立文件运行，可以执行测试代码\n",
    "    age = int(input(\"输入一个年龄:\"))\n",
    "    if age<1 or age>150:\n",
    "        raise AgeError(age)\n",
    "    else:\n",
    "        print(\"正常的年龄：\",age)"
   ]
  },
  {
   "cell_type": "code",
   "execution_count": null,
   "id": "d0523fe0",
   "metadata": {},
   "outputs": [],
   "source": [
    "d"
   ]
  }
 ],
 "metadata": {
  "kernelspec": {
   "display_name": "Python 3 (ipykernel)",
   "language": "python",
   "name": "python3"
  },
  "language_info": {
   "codemirror_mode": {
    "name": "ipython",
    "version": 3
   },
   "file_extension": ".py",
   "mimetype": "text/x-python",
   "name": "python",
   "nbconvert_exporter": "python",
   "pygments_lexer": "ipython3",
   "version": "3.9.13"
  }
 },
 "nbformat": 4,
 "nbformat_minor": 5
}
