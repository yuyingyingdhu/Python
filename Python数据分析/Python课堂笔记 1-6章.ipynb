{
 "cells": [
  {
   "cell_type": "markdown",
   "id": "8734f924",
   "metadata": {},
   "source": [
    "# 第1章  Python入门"
   ]
  },
  {
   "cell_type": "markdown",
   "id": "11d5b9d6",
   "metadata": {},
   "source": [
    "1. 可读性强\n",
    "可读性远比听上去重要的多得多。一个程序会被反复的修改，可读性强意味着让你\n",
    "可以在更短时间内学习和记忆，直接提高生产率。\n",
    "2. 简洁，简洁，简洁\n",
    "研究证明，程序员每天可编写的有效代码数是有限的。完成同样功能只用一半的代\n",
    "码，其实就是提高了一倍的生产率。\n",
    "Python 是由 C 语言开发，但是不再有 C 语言中指针等复杂数据类型，Python 的\n",
    "简洁性让开发难度和代码幅度大幅降低，开发任务大大简化。程序员再也不需要关注复\n",
    "杂的语法，而是关注任务本身。\n",
    "3. 面向对象\n",
    "4. 免费和开源\n",
    "5. 可移植性和跨平台\n",
    "Python 会被编译成与操作系统相关的二进制代码，然后再解释执行。这种方式和\n",
    "java 类似，大大提高了执行速度，也实现了跨平台。\n",
    "6. 丰富的库（丰富的标准库， 多种多样的扩展库）\n",
    "7. 可扩展性。 可嵌入到 C 和 C++语言。 胶水式语言。"
   ]
  },
  {
   "cell_type": "markdown",
   "id": "1947e9c6",
   "metadata": {},
   "source": [
    "实操作业：\n",
    "1.完成奥运五环的绘图\n",
    "2.使用海龟绘图，输出四个矩形"
   ]
  },
  {
   "cell_type": "markdown",
   "id": "8434c331",
   "metadata": {},
   "source": [
    "# 第2章（1） 编程基础概念"
   ]
  },
  {
   "cell_type": "markdown",
   "id": "195843ff",
   "metadata": {},
   "source": [
    "对象，引用，标识符，变量和简单赋值语句，删除变量和垃圾回收机制\n",
    "链式赋值，系列解包赋值\n",
    "常量,位运算,整数,浮点数,类型转换和四舍五入\n",
    "增强型赋值运算符,时间的表示，布尔值\n",
    "比较运算符==，同一运算符 is，整数缓存问题\n",
    "基本运算符，复合赋值运算符"
   ]
  },
  {
   "cell_type": "code",
   "execution_count": 5,
   "id": "77a21027",
   "metadata": {},
   "outputs": [
    {
     "data": {
      "text/plain": [
       "(4, 1)"
      ]
     },
     "execution_count": 5,
     "metadata": {},
     "output_type": "execute_result"
    }
   ],
   "source": [
    "#divmod()函数同时得到商和余数,返回的是一个元组\n",
    "divmod(13,3)"
   ]
  },
  {
   "cell_type": "code",
   "execution_count": 6,
   "id": "1cfcc29d",
   "metadata": {},
   "outputs": [
    {
     "data": {
      "text/plain": [
       "1676541918"
      ]
     },
     "execution_count": 6,
     "metadata": {},
     "output_type": "execute_result"
    }
   ],
   "source": [
    "import time \n",
    "b = int(time.time())#获取当前时刻\n",
    "b"
   ]
  },
  {
   "cell_type": "markdown",
   "id": "e539b779",
   "metadata": {},
   "source": [
    "# 第2章（2） 字符串"
   ]
  },
  {
   "cell_type": "markdown",
   "id": "0119e79d",
   "metadata": {},
   "source": [
    "字符串拼接,字符串复制,不换行打印end,从控制台读取字符串input(),str()实现数字转型字符串\n",
    "使用[]提取字符,replace()实现字符串替换,字符串切片 slice 操作\n",
    "字符串驻留机制和字符串比较\n",
    "字符串比较和同一性 == is\n",
    "成员操作符 in /not in"
   ]
  },
  {
   "cell_type": "markdown",
   "id": "f18b7c0a",
   "metadata": {},
   "source": [
    "字符串驻留：仅保存一份相同且不可变字符串的方法，不同的值被存放在字符串驻留池中。\n",
    "Python 支持字符串驻留机制，对于符合标识符规则的字符串（仅包含下划线（_）、字母\n",
    "和数字）会启用字符串驻留机制驻留机制。"
   ]
  },
  {
   "cell_type": "code",
   "execution_count": 11,
   "id": "8199617c",
   "metadata": {},
   "outputs": [
    {
     "data": {
      "text/plain": [
       "66"
      ]
     },
     "execution_count": 11,
     "metadata": {},
     "output_type": "execute_result"
    }
   ],
   "source": [
    "#字符串的编码\n",
    "#使用内置函数 ord()可以把字符转换成对应的 Unicode 码；\n",
    "#使用内置函数 chr()可以把十进制数字转换成对应的字符。\n",
    "ord('B')"
   ]
  },
  {
   "cell_type": "code",
   "execution_count": 12,
   "id": "87cfa51f",
   "metadata": {},
   "outputs": [
    {
     "data": {
      "text/plain": [
       "39640"
      ]
     },
     "execution_count": 12,
     "metadata": {},
     "output_type": "execute_result"
    }
   ],
   "source": [
    "ord('高')"
   ]
  },
  {
   "cell_type": "code",
   "execution_count": 13,
   "id": "df3c0afc",
   "metadata": {},
   "outputs": [
    {
     "data": {
      "text/plain": [
       "'B'"
      ]
     },
     "execution_count": 13,
     "metadata": {},
     "output_type": "execute_result"
    }
   ],
   "source": [
    "chr(66)"
   ]
  },
  {
   "cell_type": "code",
   "execution_count": 17,
   "id": "4fe5f005",
   "metadata": {},
   "outputs": [
    {
     "data": {
      "text/plain": [
       "'ab高defghijklmnopqrstuvwxyz'"
      ]
     },
     "execution_count": 17,
     "metadata": {},
     "output_type": "execute_result"
    }
   ],
   "source": [
    "#字符串替换\n",
    "b='abcdefghijklmnopqrstuvwxyz'\n",
    "b=b.replace('c','高')\n",
    "b"
   ]
  },
  {
   "cell_type": "code",
   "execution_count": 4,
   "id": "9b654619",
   "metadata": {},
   "outputs": [
    {
     "data": {
      "text/plain": [
       "'zyxwvutsrqponmlkjihgfedcba'"
      ]
     },
     "execution_count": 4,
     "metadata": {},
     "output_type": "execute_result"
    }
   ],
   "source": [
    "#字符串切片\n",
    "#反向提取\n",
    "a='abcdefghijklmnopqrstuvwxyz'\n",
    "a[::-1]"
   ]
  },
  {
   "cell_type": "code",
   "execution_count": 5,
   "id": "35f6dd99",
   "metadata": {},
   "outputs": [
    {
     "data": {
      "text/plain": [
       "'eb ot ton ro eb ot'"
      ]
     },
     "execution_count": 5,
     "metadata": {},
     "output_type": "execute_result"
    }
   ],
   "source": [
    "#将”to be or not to be”字符串倒序输出\n",
    "a = 'to be or not to be'\n",
    "a[::-1]"
   ]
  },
  {
   "cell_type": "code",
   "execution_count": 8,
   "id": "46841fd3",
   "metadata": {},
   "outputs": [
    {
     "data": {
      "text/plain": [
       "'sssss'"
      ]
     },
     "execution_count": 8,
     "metadata": {},
     "output_type": "execute_result"
    }
   ],
   "source": [
    "#将”sxtsxtsxtsxtsxt”字符串中所有的 s 输出\n",
    "a = 'sxtsxtsxtsxtsxt'\n",
    "a[::3]"
   ]
  },
  {
   "cell_type": "code",
   "execution_count": 9,
   "id": "30ba4130",
   "metadata": {},
   "outputs": [
    {
     "data": {
      "text/plain": [
       "['to', 'be', 'or', 'not', 'to', 'be']"
      ]
     },
     "execution_count": 9,
     "metadata": {},
     "output_type": "execute_result"
    }
   ],
   "source": [
    "#分割\n",
    "a = 'to be or not to be'\n",
    "a.split()"
   ]
  },
  {
   "cell_type": "code",
   "execution_count": 11,
   "id": "fa6fd169",
   "metadata": {},
   "outputs": [
    {
     "data": {
      "text/plain": [
       "['to ', ' or not to ', '']"
      ]
     },
     "execution_count": 11,
     "metadata": {},
     "output_type": "execute_result"
    }
   ],
   "source": [
    "#分割,指定分隔符\n",
    "a = 'to be or not to be'\n",
    "a.split('be')"
   ]
  },
  {
   "cell_type": "code",
   "execution_count": 13,
   "id": "5509c644",
   "metadata": {},
   "outputs": [
    {
     "data": {
      "text/plain": [
       "'sxt*sxt100*sxt200'"
      ]
     },
     "execution_count": 13,
     "metadata": {},
     "output_type": "execute_result"
    }
   ],
   "source": [
    "#拼接\n",
    "a = ['sxt','sxt100','sxt200']\n",
    "'*'.join(a)"
   ]
  },
  {
   "cell_type": "code",
   "execution_count": 17,
   "id": "44f86a1b",
   "metadata": {},
   "outputs": [
    {
     "name": "stdout",
     "output_type": "stream",
     "text": [
      "+运算时间：0.04497480392456055\n",
      "join运算时间：0.021986961364746094\n"
     ]
    }
   ],
   "source": [
    "#拼接字符串要点：\n",
    "#使用字符串拼接符+，会生成新的字符串对象，因此不推荐使用+来拼接字符串。推荐\n",
    "#使用 join 函数，因为 join 函数在拼接字符串之前会计算所有字符串的长度，然后逐一拷贝，\n",
    "#仅新建一次对象。\n",
    "#测试+拼接符和 join()，不同的效率\n",
    "import time\n",
    "\n",
    "time01=time.time()\n",
    "s = 'sxt'\n",
    "for i in range(100000):\n",
    "    a += s\n",
    "time02=time.time()\n",
    "print('+运算时间：'+str(time02-time01))\n",
    "\n",
    "time03=time.time()\n",
    "li = []\n",
    "for i in range(100000):\n",
    "    li.append(s)\n",
    "b=''.join(li)\n",
    "time04=time.time()\n",
    "print('join运算时间：'+str(time04-time03))"
   ]
  },
  {
   "cell_type": "markdown",
   "id": "f9cab9bf",
   "metadata": {},
   "source": [
    "字符串常用方法汇总:常用查找方法,去除首尾信息,大小写转换,格式排版"
   ]
  },
  {
   "cell_type": "code",
   "execution_count": 19,
   "id": "a01fbd21",
   "metadata": {},
   "outputs": [
    {
     "data": {
      "text/plain": [
       "'*s*x*t*'"
      ]
     },
     "execution_count": 19,
     "metadata": {},
     "output_type": "execute_result"
    }
   ],
   "source": [
    "#去除首尾信息\n",
    "'*s*x*t*'.lstrip()"
   ]
  },
  {
   "cell_type": "code",
   "execution_count": 28,
   "id": "494960cf",
   "metadata": {},
   "outputs": [
    {
     "data": {
      "text/plain": [
       "'234'"
      ]
     },
     "execution_count": 28,
     "metadata": {},
     "output_type": "execute_result"
    }
   ],
   "source": [
    "#填充与对齐\n",
    "#填充常跟对齐一起使用\n",
    "#^、<、>分别是居中、左对齐、右对齐，后面带宽度\n",
    "#:号后面带填充的字符，只能是一个字符，不指定的话默认是用空格填充\n",
    "\n",
    "'{}'.format('234')"
   ]
  },
  {
   "cell_type": "code",
   "execution_count": 30,
   "id": "27a7ec8f",
   "metadata": {},
   "outputs": [
    {
     "data": {
      "text/plain": [
       "'*****236'"
      ]
     },
     "execution_count": 30,
     "metadata": {},
     "output_type": "execute_result"
    }
   ],
   "source": [
    "'{:*>8}'.format('236')"
   ]
  },
  {
   "cell_type": "code",
   "execution_count": 30,
   "id": "0b25d572",
   "metadata": {},
   "outputs": [
    {
     "data": {
      "text/plain": [
       "'23.00'"
      ]
     },
     "execution_count": 30,
     "metadata": {},
     "output_type": "execute_result"
    }
   ],
   "source": [
    "'{:.2f}'.format(23)"
   ]
  },
  {
   "cell_type": "code",
   "execution_count": 34,
   "id": "99ee4a61",
   "metadata": {},
   "outputs": [
    {
     "data": {
      "text/plain": [
       "'我是糕糕，我喜欢数字+++769++++'"
      ]
     },
     "execution_count": 34,
     "metadata": {},
     "output_type": "execute_result"
    }
   ],
   "source": [
    "'我是{}，我喜欢数字{:+^10}'.format('糕糕','769')"
   ]
  },
  {
   "cell_type": "code",
   "execution_count": 35,
   "id": "d2bd028b",
   "metadata": {},
   "outputs": [
    {
     "data": {
      "text/plain": [
       "'我是糕糕，我喜欢数字+++769++++'"
      ]
     },
     "execution_count": 35,
     "metadata": {},
     "output_type": "execute_result"
    }
   ],
   "source": [
    "'我是{0}，我喜欢数字{1:+^10}'.format('糕糕','769')"
   ]
  },
  {
   "cell_type": "code",
   "execution_count": 31,
   "id": "88dedb8b",
   "metadata": {},
   "outputs": [
    {
     "data": {
      "text/plain": [
       "'23.50%'"
      ]
     },
     "execution_count": 31,
     "metadata": {},
     "output_type": "execute_result"
    }
   ],
   "source": [
    "#百分比格式\n",
    "'{:.2%}'.format(0.235)"
   ]
  },
  {
   "cell_type": "code",
   "execution_count": 41,
   "id": "8985b0ec",
   "metadata": {},
   "outputs": [
    {
     "data": {
      "text/plain": [
       "'hello sgt'"
      ]
     },
     "execution_count": 41,
     "metadata": {},
     "output_type": "execute_result"
    }
   ],
   "source": [
    "#需要原地修改字符串，可以使用 io.StringIO对象或 array 模块。\n",
    "import io\n",
    "s = 'hello sxt'\n",
    "sio = io.StringIO(s)\n",
    "sio.getvalue()\n",
    "sio.seek(7)\n",
    "sio.write('g')\n",
    "sio.getvalue()"
   ]
  },
  {
   "cell_type": "code",
   "execution_count": 35,
   "id": "306f6d8e",
   "metadata": {},
   "outputs": [
    {
     "name": "stdout",
     "output_type": "stream",
     "text": [
      "10\n"
     ]
    },
    {
     "data": {
      "text/plain": [
       "120"
      ]
     },
     "execution_count": 35,
     "metadata": {},
     "output_type": "execute_result"
    }
   ],
   "source": [
    "#从控制台输入用户的月薪，进行运算计算出年薪。打印输出用户的年薪\n",
    "month=int(input())\n",
    "year=month*12\n",
    "year"
   ]
  },
  {
   "cell_type": "code",
   "execution_count": 36,
   "id": "d596b027",
   "metadata": {},
   "outputs": [
    {
     "data": {
      "text/plain": [
       "'爱你一百遍爱你一百遍爱你一百遍爱你一百遍爱你一百遍爱你一百遍爱你一百遍爱你一百遍爱你一百遍爱你一百遍爱你一百遍爱你一百遍爱你一百遍爱你一百遍爱你一百遍爱你一百遍爱你一百遍爱你一百遍爱你一百遍爱你一百遍爱你一百遍爱你一百遍爱你一百遍爱你一百遍爱你一百遍爱你一百遍爱你一百遍爱你一百遍爱你一百遍爱你一百遍爱你一百遍爱你一百遍爱你一百遍爱你一百遍爱你一百遍爱你一百遍爱你一百遍爱你一百遍爱你一百遍爱你一百遍爱你一百遍爱你一百遍爱你一百遍爱你一百遍爱你一百遍爱你一百遍爱你一百遍爱你一百遍爱你一百遍爱你一百遍爱你一百遍爱你一百遍爱你一百遍爱你一百遍爱你一百遍爱你一百遍爱你一百遍爱你一百遍爱你一百遍爱你一百遍爱你一百遍爱你一百遍爱你一百遍爱你一百遍爱你一百遍爱你一百遍爱你一百遍爱你一百遍爱你一百遍爱你一百遍爱你一百遍爱你一百遍爱你一百遍爱你一百遍爱你一百遍爱你一百遍爱你一百遍爱你一百遍爱你一百遍爱你一百遍爱你一百遍爱你一百遍爱你一百遍爱你一百遍爱你一百遍爱你一百遍爱你一百遍爱你一百遍爱你一百遍爱你一百遍爱你一百遍爱你一百遍爱你一百遍爱你一百遍爱你一百遍爱你一百遍爱你一百遍爱你一百遍爱你一百遍爱你一百遍'"
      ]
     },
     "execution_count": 36,
     "metadata": {},
     "output_type": "execute_result"
    }
   ],
   "source": [
    "#使用字符串复制，用计算机打印出“爱你一百遍”，打印 100 次\n",
    "a=''\n",
    "for i in range(100):\n",
    "    a +='爱你一百遍'\n",
    "a"
   ]
  },
  {
   "cell_type": "code",
   "execution_count": 37,
   "id": "2b5b90ce",
   "metadata": {},
   "outputs": [
    {
     "data": {
      "text/plain": [
       "'爱你一百遍爱你一百遍爱你一百遍爱你一百遍爱你一百遍爱你一百遍爱你一百遍爱你一百遍爱你一百遍爱你一百遍爱你一百遍爱你一百遍爱你一百遍爱你一百遍爱你一百遍爱你一百遍爱你一百遍爱你一百遍爱你一百遍爱你一百遍爱你一百遍爱你一百遍爱你一百遍爱你一百遍爱你一百遍爱你一百遍爱你一百遍爱你一百遍爱你一百遍爱你一百遍爱你一百遍爱你一百遍爱你一百遍爱你一百遍爱你一百遍爱你一百遍爱你一百遍爱你一百遍爱你一百遍爱你一百遍爱你一百遍爱你一百遍爱你一百遍爱你一百遍爱你一百遍爱你一百遍爱你一百遍爱你一百遍爱你一百遍爱你一百遍爱你一百遍爱你一百遍爱你一百遍爱你一百遍爱你一百遍爱你一百遍爱你一百遍爱你一百遍爱你一百遍爱你一百遍爱你一百遍爱你一百遍爱你一百遍爱你一百遍爱你一百遍爱你一百遍爱你一百遍爱你一百遍爱你一百遍爱你一百遍爱你一百遍爱你一百遍爱你一百遍爱你一百遍爱你一百遍爱你一百遍爱你一百遍爱你一百遍爱你一百遍爱你一百遍爱你一百遍爱你一百遍爱你一百遍爱你一百遍爱你一百遍爱你一百遍爱你一百遍爱你一百遍爱你一百遍爱你一百遍爱你一百遍爱你一百遍爱你一百遍爱你一百遍爱你一百遍爱你一百遍爱你一百遍爱你一百遍爱你一百遍爱你一百遍'"
      ]
     },
     "execution_count": 37,
     "metadata": {},
     "output_type": "execute_result"
    }
   ],
   "source": [
    "li=[]\n",
    "for i in range(100):\n",
    "    li.append('爱你一百遍')\n",
    "''.join(li)"
   ]
  },
  {
   "cell_type": "code",
   "execution_count": 45,
   "id": "a7c6ddfd",
   "metadata": {},
   "outputs": [
    {
     "data": {
      "text/plain": [
       "'sssss'"
      ]
     },
     "execution_count": 45,
     "metadata": {},
     "output_type": "execute_result"
    }
   ],
   "source": [
    "a = 'sxtsxtsxtsxtsxt'\n",
    "a[::3]"
   ]
  },
  {
   "cell_type": "markdown",
   "id": "269eefbc",
   "metadata": {},
   "source": [
    "# 第 3 章 序列"
   ]
  },
  {
   "cell_type": "markdown",
   "id": "faf0f208",
   "metadata": {},
   "source": [
    "序列结构有：字符串、列表、元组、字典、集合\n",
    "序列中存储的是整数对象的地址，而不是整数对象的值"
   ]
  },
  {
   "cell_type": "code",
   "execution_count": 46,
   "id": "90510633",
   "metadata": {},
   "outputs": [
    {
     "data": {
      "text/plain": [
       "[15, 12, 9, 6, 3]"
      ]
     },
     "execution_count": 46,
     "metadata": {},
     "output_type": "execute_result"
    }
   ],
   "source": [
    "#list()列表的创建,range()创建整数列表\n",
    "list(range(15,2,-3))"
   ]
  },
  {
   "cell_type": "code",
   "execution_count": 48,
   "id": "6abacd5b",
   "metadata": {},
   "outputs": [
    {
     "data": {
      "text/plain": [
       "[0, 1, 4, 9, 16, 25, 36, 49, 64, 81]"
      ]
     },
     "execution_count": 48,
     "metadata": {},
     "output_type": "execute_result"
    }
   ],
   "source": [
    "#推导式生产列表\n",
    "a = [x**2 for x in range(10)]\n",
    "a"
   ]
  },
  {
   "cell_type": "code",
   "execution_count": 38,
   "id": "dafc1e38",
   "metadata": {},
   "outputs": [
    {
     "data": {
      "text/plain": [
       "[0, 18, 36, 54, 72, 90, 108, 126, 144, 162, 180, 198]"
      ]
     },
     "execution_count": 38,
     "metadata": {},
     "output_type": "execute_result"
    }
   ],
   "source": [
    "a=[x*2 for x in range(100) if x%9==0]\n",
    "a"
   ]
  },
  {
   "cell_type": "markdown",
   "id": "fd84f4bb",
   "metadata": {},
   "source": [
    "列表对象的常用方法，append,extend,insert(),remove()、pop()、del()"
   ]
  },
  {
   "cell_type": "code",
   "execution_count": 39,
   "id": "a3af4135",
   "metadata": {},
   "outputs": [
    {
     "data": {
      "text/plain": [
       "[20, 40, 50]"
      ]
     },
     "execution_count": 39,
     "metadata": {},
     "output_type": "execute_result"
    }
   ],
   "source": [
    "#append,原地修改列表对象,+ 创建新的列表对象\n",
    "a=[20,40]\n",
    "a.append(50)\n",
    "a"
   ]
  },
  {
   "cell_type": "code",
   "execution_count": 40,
   "id": "8210edd6",
   "metadata": {},
   "outputs": [
    {
     "data": {
      "text/plain": [
       "[20, 40, 70, 90]"
      ]
     },
     "execution_count": 40,
     "metadata": {},
     "output_type": "execute_result"
    }
   ],
   "source": [
    "#extend\n",
    "a=[20,40],原地修改列表对象\n",
    "a.extend([70,90])\n",
    "a"
   ]
  },
  {
   "cell_type": "code",
   "execution_count": 41,
   "id": "37a9ab12",
   "metadata": {},
   "outputs": [
    {
     "data": {
      "text/plain": [
       "[10, 20, 100, 30, 40]"
      ]
     },
     "execution_count": 41,
     "metadata": {},
     "output_type": "execute_result"
    }
   ],
   "source": [
    "#insert\n",
    "a=[10,20,30,40]\n",
    "a.insert(2,100)\n",
    "a"
   ]
  },
  {
   "cell_type": "code",
   "execution_count": 42,
   "id": "36b11256",
   "metadata": {},
   "outputs": [
    {
     "data": {
      "text/plain": [
       "['sxt', 100, 'sxt', 100, 'sxt', 100]"
      ]
     },
     "execution_count": 42,
     "metadata": {},
     "output_type": "execute_result"
    }
   ],
   "source": [
    "#乘法扩展,适用于乘法操作的，还有：字符串、元组。\n",
    "a = ['sxt',100]\n",
    "b=a*3\n",
    "b"
   ]
  },
  {
   "cell_type": "code",
   "execution_count": 44,
   "id": "c25fe013",
   "metadata": {},
   "outputs": [
    {
     "data": {
      "text/plain": [
       "[10, 20, 40]"
      ]
     },
     "execution_count": 44,
     "metadata": {},
     "output_type": "execute_result"
    }
   ],
   "source": [
    "#del\n",
    "a=[10,20,30,40]\n",
    "del a[2]\n",
    "a"
   ]
  },
  {
   "cell_type": "code",
   "execution_count": 46,
   "id": "169fd4ce",
   "metadata": {},
   "outputs": [
    {
     "data": {
      "text/plain": [
       "20"
      ]
     },
     "execution_count": 46,
     "metadata": {},
     "output_type": "execute_result"
    }
   ],
   "source": [
    "#pop\n",
    "a=[10,20,30,40]\n",
    "a.pop(1)"
   ]
  },
  {
   "cell_type": "code",
   "execution_count": 48,
   "id": "cb6dc7b2",
   "metadata": {},
   "outputs": [
    {
     "data": {
      "text/plain": [
       "[20, 30, 40]"
      ]
     },
     "execution_count": 48,
     "metadata": {},
     "output_type": "execute_result"
    }
   ],
   "source": [
    "#remove\n",
    "a=[10,20,30,40]\n",
    "a.remove(10)\n",
    "a"
   ]
  },
  {
   "cell_type": "markdown",
   "id": "dd3207f8",
   "metadata": {},
   "source": [
    "通过索引直接访问元素\n",
    "index()获得指定元素在列表中首次出现的索引\n",
    "count()获得指定元素在列表中出现的次数\n",
    "len()返回列表长度"
   ]
  },
  {
   "cell_type": "code",
   "execution_count": 51,
   "id": "3c8738d5",
   "metadata": {},
   "outputs": [
    {
     "data": {
      "text/plain": [
       "6"
      ]
     },
     "execution_count": 51,
     "metadata": {},
     "output_type": "execute_result"
    }
   ],
   "source": [
    "#index(value,[start,[end]])。\\\n",
    "a = [10,20,30,40,50,20,30,20,30]\n",
    "a.index(30,5,7)\n"
   ]
  },
  {
   "cell_type": "code",
   "execution_count": 53,
   "id": "21f334ee",
   "metadata": {},
   "outputs": [
    {
     "data": {
      "text/plain": [
       "3"
      ]
     },
     "execution_count": 53,
     "metadata": {},
     "output_type": "execute_result"
    }
   ],
   "source": [
    "#count(),in判断列表中存在指定元素\n",
    "a = [10,20,30,40,50,20,30,20,30]\n",
    "a.count(20)"
   ]
  },
  {
   "cell_type": "code",
   "execution_count": 54,
   "id": "44a2bcf7",
   "metadata": {},
   "outputs": [
    {
     "data": {
      "text/plain": [
       "3"
      ]
     },
     "execution_count": 54,
     "metadata": {},
     "output_type": "execute_result"
    }
   ],
   "source": [
    "#len()\n",
    "a = [10,20,30]\n",
    "len(a)"
   ]
  },
  {
   "cell_type": "markdown",
   "id": "43662d2d",
   "metadata": {},
   "source": [
    "切片操作slice，"
   ]
  },
  {
   "cell_type": "code",
   "execution_count": null,
   "id": "c9e312ca",
   "metadata": {},
   "outputs": [],
   "source": [
    "#复制列表所有的元素到新列表对象\n",
    "list1 = [30,40,50]\n",
    "list2 = list1\n",
    "#只是将 list2 也指向了列表对象，也就是说 list2 和 list2 持有地址值是相同的，列表对象本\n",
    "#身的元素并没有复制。\n",
    "#我们可以通过如下简单方式，实现列表元素内容的复制：\n",
    "list1 = [30,40,50]\n",
    "list2 = [] + list1"
   ]
  },
  {
   "cell_type": "code",
   "execution_count": 55,
   "id": "606d431d",
   "metadata": {},
   "outputs": [
    {
     "data": {
      "text/plain": [
       "[10, 20, 30, 40]"
      ]
     },
     "execution_count": 55,
     "metadata": {},
     "output_type": "execute_result"
    }
   ],
   "source": [
    "#sort()修改原列表\n",
    "a = [20,10,30,40]\n",
    "a.sort()\n",
    "a"
   ]
  },
  {
   "cell_type": "code",
   "execution_count": 60,
   "id": "4c61a1e8",
   "metadata": {},
   "outputs": [
    {
     "data": {
      "text/plain": [
       "[40, 30, 20, 10]"
      ]
     },
     "execution_count": 60,
     "metadata": {},
     "output_type": "execute_result"
    }
   ],
   "source": [
    "a = [20,10,30,40]\n",
    "a.sort(reverse=True)\n",
    "a"
   ]
  },
  {
   "cell_type": "code",
   "execution_count": 63,
   "id": "ed3782fe",
   "metadata": {},
   "outputs": [
    {
     "data": {
      "text/plain": [
       "[10, 20, 30, 40]"
      ]
     },
     "execution_count": 63,
     "metadata": {},
     "output_type": "execute_result"
    }
   ],
   "source": [
    "#sorted()不修改原列表\n",
    "a = [20,10,30,40]\n",
    "b=sorted(a)\n",
    "b"
   ]
  },
  {
   "cell_type": "code",
   "execution_count": 64,
   "id": "b4c4e6c1",
   "metadata": {},
   "outputs": [
    {
     "data": {
      "text/plain": [
       "<list_reverseiterator at 0x252691e3700>"
      ]
     },
     "execution_count": 64,
     "metadata": {},
     "output_type": "execute_result"
    }
   ],
   "source": [
    "#reversed()返回迭代器,返回一个逆序排列的迭代器对象。\n",
    "a = [20,10,30,40]\n",
    "c =reversed(a)\n",
    "c "
   ]
  },
  {
   "cell_type": "code",
   "execution_count": 65,
   "id": "a57f6829",
   "metadata": {},
   "outputs": [
    {
     "data": {
      "text/plain": [
       "[40, 30, 10, 20]"
      ]
     },
     "execution_count": 65,
     "metadata": {},
     "output_type": "execute_result"
    }
   ],
   "source": [
    "list(c)"
   ]
  },
  {
   "cell_type": "markdown",
   "id": "072e33da",
   "metadata": {},
   "source": [
    "内置函数：min，max，sum"
   ]
  },
  {
   "cell_type": "code",
   "execution_count": 66,
   "id": "8e57f3e3",
   "metadata": {},
   "outputs": [
    {
     "name": "stdout",
     "output_type": "stream",
     "text": [
      "高小一1830000北京\n",
      "高小二1920000上海\n",
      "高小一2010000深圳\n"
     ]
    }
   ],
   "source": [
    "#二维列表\n",
    "a = [\n",
    "[\"高小一\",18,30000,\"北京\"],\n",
    "[\"高小二\",19,20000,\"上海\"],\n",
    "[\"高小一\",20,10000,\"深圳\"],\n",
    "]\n",
    "for i in range(3):\n",
    "    for j in range(4):\n",
    "        print(a[i][j],end='')\n",
    "    print()"
   ]
  },
  {
   "cell_type": "markdown",
   "id": "44d26bf6",
   "metadata": {},
   "source": [
    "元祖"
   ]
  },
  {
   "cell_type": "code",
   "execution_count": 68,
   "id": "98aee41d",
   "metadata": {},
   "outputs": [
    {
     "data": {
      "text/plain": [
       "(10, 20, 30)"
      ]
     },
     "execution_count": 68,
     "metadata": {},
     "output_type": "execute_result"
    }
   ],
   "source": [
    "#创建元祖\n",
    "a=(10,20,30)\n",
    "a"
   ]
  },
  {
   "cell_type": "code",
   "execution_count": 69,
   "id": "aed5fe41",
   "metadata": {},
   "outputs": [
    {
     "data": {
      "text/plain": [
       "(10, 20, 40)"
      ]
     },
     "execution_count": 69,
     "metadata": {},
     "output_type": "execute_result"
    }
   ],
   "source": [
    "a=10,20,40\n",
    "a"
   ]
  },
  {
   "cell_type": "code",
   "execution_count": 74,
   "id": "ad72046a",
   "metadata": {},
   "outputs": [
    {
     "data": {
      "text/plain": [
       "(2, 3, 4)"
      ]
     },
     "execution_count": 74,
     "metadata": {},
     "output_type": "execute_result"
    }
   ],
   "source": [
    "# b=tuple('abc')\n",
    "# b=tuple(range(10))\n",
    "b=tuple([2,3,4])\n",
    "b"
   ]
  },
  {
   "cell_type": "code",
   "execution_count": 49,
   "id": "cd92fb94",
   "metadata": {
    "scrolled": false
   },
   "outputs": [
    {
     "data": {
      "text/plain": [
       "[(10, 40, 70), (20, 50, 80), (30, 60, 90)]"
      ]
     },
     "execution_count": 49,
     "metadata": {},
     "output_type": "execute_result"
    }
   ],
   "source": [
    "#zip(列表 1，列表 2，...)将多个列表对应位置的元素组合成为元组\n",
    "d = zip([10,20,30],[40,50,60],[70,80,90])\n",
    "list(d)"
   ]
  },
  {
   "cell_type": "code",
   "execution_count": 75,
   "id": "1a693020",
   "metadata": {},
   "outputs": [
    {
     "data": {
      "text/plain": [
       "[0, 2, 4, 6, 8, 10, 12, 14, 16, 18]"
      ]
     },
     "execution_count": 75,
     "metadata": {},
     "output_type": "execute_result"
    }
   ],
   "source": [
    "#列表推导式\n",
    "a = [x*2 for x in range(10)]\n",
    "a"
   ]
  },
  {
   "cell_type": "code",
   "execution_count": 54,
   "id": "35964d58",
   "metadata": {
    "scrolled": true
   },
   "outputs": [
    {
     "data": {
      "text/plain": [
       "()"
      ]
     },
     "execution_count": 54,
     "metadata": {},
     "output_type": "execute_result"
    }
   ],
   "source": [
    "#生成器推导式创建元组\n",
    "#生成器推导式生成的不是列表也不是元组，而是一个生成器对象\n",
    "a = (x**2 for x in range(10))\n",
    "#a\n",
    "tuple(a)\n",
    "# tuple(a)#只能访问一次元素。第二次就为空了。需要再生成一次"
   ]
  },
  {
   "cell_type": "markdown",
   "id": "7576cc88",
   "metadata": {},
   "source": [
    "字典"
   ]
  },
  {
   "cell_type": "code",
   "execution_count": 76,
   "id": "db03dbbb",
   "metadata": {},
   "outputs": [
    {
     "data": {
      "text/plain": [
       "{'name': '小小', 'age': 18}"
      ]
     },
     "execution_count": 76,
     "metadata": {},
     "output_type": "execute_result"
    }
   ],
   "source": [
    "#字典的创建\n",
    "a={'name':'小小','age':18}\n",
    "a"
   ]
  },
  {
   "cell_type": "code",
   "execution_count": 78,
   "id": "ffe72936",
   "metadata": {},
   "outputs": [
    {
     "data": {
      "text/plain": [
       "{'name': '小小', 'age': 18}"
      ]
     },
     "execution_count": 78,
     "metadata": {},
     "output_type": "execute_result"
    }
   ],
   "source": [
    "a = dict(name='小小',age=18)\n",
    "a"
   ]
  },
  {
   "cell_type": "code",
   "execution_count": 79,
   "id": "b88aded4",
   "metadata": {},
   "outputs": [
    {
     "data": {
      "text/plain": [
       "{'name': '小小', 'age': 18}"
      ]
     },
     "execution_count": 79,
     "metadata": {},
     "output_type": "execute_result"
    }
   ],
   "source": [
    "a=dict([('name','小小'),('age',18)])\n",
    "a"
   ]
  },
  {
   "cell_type": "code",
   "execution_count": 80,
   "id": "2de69125",
   "metadata": {},
   "outputs": [
    {
     "data": {
      "text/plain": [
       "{'name': 'gaoqi', 'age': 18, 'job': 'techer'}"
      ]
     },
     "execution_count": 80,
     "metadata": {},
     "output_type": "execute_result"
    }
   ],
   "source": [
    "k = ['name','age','job']\n",
    "v = ['gaoqi',18,'techer']\n",
    "d = dict(zip(k,v))\n",
    "d"
   ]
  },
  {
   "cell_type": "markdown",
   "id": "38bb6071",
   "metadata": {},
   "source": [
    "get()方法获得“值”,a.items()列出所有的键值对,a.keys()列出所有的键，列出所有的值,len() 键值对的个数"
   ]
  },
  {
   "cell_type": "code",
   "execution_count": 82,
   "id": "e22237e7",
   "metadata": {},
   "outputs": [
    {
     "data": {
      "text/plain": [
       "'gaoqi'"
      ]
     },
     "execution_count": 82,
     "metadata": {},
     "output_type": "execute_result"
    }
   ],
   "source": [
    "#get()\n",
    "d.get('name')"
   ]
  },
  {
   "cell_type": "code",
   "execution_count": 84,
   "id": "f66be622",
   "metadata": {},
   "outputs": [
    {
     "data": {
      "text/plain": [
       "dict_items([('name', 'gaoqi'), ('age', 18), ('job', 'techer')])"
      ]
     },
     "execution_count": 84,
     "metadata": {},
     "output_type": "execute_result"
    }
   ],
   "source": [
    "d.items()"
   ]
  },
  {
   "cell_type": "code",
   "execution_count": 93,
   "id": "7aa929b2",
   "metadata": {},
   "outputs": [
    {
     "data": {
      "text/plain": [
       "dict_values(['gaoqi', 18, 'techer'])"
      ]
     },
     "execution_count": 93,
     "metadata": {},
     "output_type": "execute_result"
    }
   ],
   "source": [
    "d.values()"
   ]
  },
  {
   "cell_type": "code",
   "execution_count": 85,
   "id": "697bc7da",
   "metadata": {},
   "outputs": [
    {
     "data": {
      "text/plain": [
       "dict_keys(['name', 'age', 'job'])"
      ]
     },
     "execution_count": 85,
     "metadata": {},
     "output_type": "execute_result"
    }
   ],
   "source": [
    "d.keys()"
   ]
  },
  {
   "cell_type": "code",
   "execution_count": 86,
   "id": "ee62fedf",
   "metadata": {},
   "outputs": [
    {
     "data": {
      "text/plain": [
       "3"
      ]
     },
     "execution_count": 86,
     "metadata": {},
     "output_type": "execute_result"
    }
   ],
   "source": [
    "len(d)"
   ]
  },
  {
   "cell_type": "markdown",
   "id": "a5ef887a",
   "metadata": {},
   "source": [
    "update()将新字典中所有键值对全部添加到旧字典对象上。如果 key 有重复，则直\n",
    "接覆盖;字典中元素的删除，可以使用 del()方法；或者 clear()删除所有键值对；pop()删除指定键值对，并返回对应的“值对象”popitem() ：随机删除和返回该键值对。"
   ]
  },
  {
   "cell_type": "code",
   "execution_count": 88,
   "id": "aab4cb30",
   "metadata": {},
   "outputs": [
    {
     "data": {
      "text/plain": [
       "{'name': 'gaoxixi', 'age': 18, 'job': 'programmer', 'money': 1000, 'sex': '男的'}"
      ]
     },
     "execution_count": 88,
     "metadata": {},
     "output_type": "execute_result"
    }
   ],
   "source": [
    "a = {'name':'gaoqi','age':18,'job':'programmer'}\n",
    "b = {'name':'gaoxixi','money':1000,'sex':'男的'}\n",
    "a.update(b)\n",
    "a"
   ]
  },
  {
   "cell_type": "code",
   "execution_count": 89,
   "id": "9866b141",
   "metadata": {},
   "outputs": [
    {
     "data": {
      "text/plain": [
       "{'age': 18, 'job': 'programmer'}"
      ]
     },
     "execution_count": 89,
     "metadata": {},
     "output_type": "execute_result"
    }
   ],
   "source": [
    "a = {'name':'gaoqi','age':18,'job':'programmer'}\n",
    "del(a['name'])\n",
    "a"
   ]
  },
  {
   "cell_type": "code",
   "execution_count": 90,
   "id": "e501e667",
   "metadata": {},
   "outputs": [
    {
     "data": {
      "text/plain": [
       "18"
      ]
     },
     "execution_count": 90,
     "metadata": {},
     "output_type": "execute_result"
    }
   ],
   "source": [
    "b = a.pop('age')\n",
    "b"
   ]
  },
  {
   "cell_type": "code",
   "execution_count": 91,
   "id": "5ec7b7ae",
   "metadata": {},
   "outputs": [
    {
     "data": {
      "text/plain": [
       "('job', 'programmer')"
      ]
     },
     "execution_count": 91,
     "metadata": {},
     "output_type": "execute_result"
    }
   ],
   "source": [
    "a = {'name':'gaoqi','age':18,'job':'programmer'}\n",
    "a.popitem()"
   ]
  },
  {
   "cell_type": "code",
   "execution_count": 92,
   "id": "c2418418",
   "metadata": {},
   "outputs": [
    {
     "data": {
      "text/plain": [
       "20"
      ]
     },
     "execution_count": 92,
     "metadata": {},
     "output_type": "execute_result"
    }
   ],
   "source": [
    "#序列解包\n",
    "x,y,z=(20,30,10)\n",
    "x"
   ]
  },
  {
   "cell_type": "code",
   "execution_count": 56,
   "id": "52979f09",
   "metadata": {},
   "outputs": [
    {
     "data": {
      "text/plain": [
       "[{'name': '高小一', 'age': 18, 'salary': 30000, 'city': '北京'},\n",
       " {'name': '高小二', 'age': 19, 'salary': 20000, 'city': '上海'},\n",
       " {'name': '高小五', 'age': 20, 'salary': 10000, 'city': '深圳'}]"
      ]
     },
     "execution_count": 56,
     "metadata": {},
     "output_type": "execute_result"
    }
   ],
   "source": [
    "r1 = {\"name\":\"高小一\",\"age\":18,\"salary\":30000,\"city\":\"北京\"}\n",
    "r2 = {\"name\":\"高小二\",\"age\":19,\"salary\":20000,\"city\":\"上海\"}\n",
    "r3 = {\"name\":\"高小五\",\"age\":20,\"salary\":10000,\"city\":\"深圳\"}\n",
    "tb = [r1,r2,r3]\n",
    "tb"
   ]
  },
  {
   "cell_type": "code",
   "execution_count": 57,
   "id": "0c901d24",
   "metadata": {},
   "outputs": [
    {
     "data": {
      "text/plain": [
       "20000"
      ]
     },
     "execution_count": 57,
     "metadata": {},
     "output_type": "execute_result"
    }
   ],
   "source": [
    "#获得第二行的人的薪资\n",
    "tb[1].get('salary')"
   ]
  },
  {
   "cell_type": "code",
   "execution_count": 59,
   "id": "a751a0fc",
   "metadata": {},
   "outputs": [
    {
     "name": "stdout",
     "output_type": "stream",
     "text": [
      "30000\n",
      "20000\n",
      "10000\n"
     ]
    }
   ],
   "source": [
    "#打印表中所有的的薪资\n",
    "for i in range(len(tb)):\n",
    "    print(tb[i].get('salary'))"
   ]
  },
  {
   "cell_type": "code",
   "execution_count": 60,
   "id": "8929bbf3",
   "metadata": {},
   "outputs": [
    {
     "name": "stdout",
     "output_type": "stream",
     "text": [
      "高小一 18 30000 北京\n",
      "高小二 19 20000 上海\n",
      "高小五 20 10000 深圳\n"
     ]
    }
   ],
   "source": [
    "#打印表的所有数据\n",
    "for i in range(len(tb)):\n",
    "    print(tb[i].get('name'),tb[i].get('age'),tb[i].get('salary'),tb[i].get('city'))"
   ]
  },
  {
   "cell_type": "markdown",
   "id": "b6c6e4c7",
   "metadata": {},
   "source": [
    "用法总结：\n",
    "1. 键必须可散列\n",
    "(1) 数字、字符串、元组，都是可散列的。\n",
    "(2) 自定义对象需要支持下面三点：\n",
    "1 支持 hash()函数\n",
    "2 支持通过__eq__()方法检测相等性。\n",
    "3 若 a==b 为真，则 hash(a)==hash(b)也为真。\n",
    "2. 字典在内存中开销巨大，典型的空间换时间。\n",
    "3. 键查询速度很快\n",
    "4. 往字典里面添加新建可能导致扩容，导致散列表中键的次序变化。因此，不要在遍历字\n",
    "典的同时进行字典的修改。"
   ]
  },
  {
   "cell_type": "markdown",
   "id": "cf62b45f",
   "metadata": {},
   "source": [
    "集合"
   ]
  },
  {
   "cell_type": "code",
   "execution_count": 94,
   "id": "7c6df207",
   "metadata": {},
   "outputs": [
    {
     "data": {
      "text/plain": [
       "{3, 5, 7}"
      ]
     },
     "execution_count": 94,
     "metadata": {},
     "output_type": "execute_result"
    }
   ],
   "source": [
    "#{}创建集合对象\n",
    "a={3,5,7}\n",
    "a"
   ]
  },
  {
   "cell_type": "code",
   "execution_count": 95,
   "id": "994b5346",
   "metadata": {},
   "outputs": [
    {
     "data": {
      "text/plain": [
       "{3, 5, 7, 11}"
      ]
     },
     "execution_count": 95,
     "metadata": {},
     "output_type": "execute_result"
    }
   ],
   "source": [
    "a.add(11)\n",
    "a"
   ]
  },
  {
   "cell_type": "code",
   "execution_count": 96,
   "id": "42bfc432",
   "metadata": {},
   "outputs": [
    {
     "data": {
      "text/plain": [
       "{'a', 'b', 'c'}"
      ]
     },
     "execution_count": 96,
     "metadata": {},
     "output_type": "execute_result"
    }
   ],
   "source": [
    "#使用 set()，将列表、元组等可迭代对象转成集合。如果原来数据存在重复数据，则只保留一个\n",
    "a = ['a','b','c','b']\n",
    "b=set(a)\n",
    "b"
   ]
  },
  {
   "cell_type": "code",
   "execution_count": 99,
   "id": "d9f4ddc9",
   "metadata": {},
   "outputs": [
    {
     "data": {
      "text/plain": [
       "{'a', 'b'}"
      ]
     },
     "execution_count": 99,
     "metadata": {},
     "output_type": "execute_result"
    }
   ],
   "source": [
    "#remove()删除指定元素；clear()清空整个集合\n",
    "b={'a', 'b', 'c'}\n",
    "b.remove('c')\n",
    "b"
   ]
  },
  {
   "cell_type": "markdown",
   "id": "144f1327",
   "metadata": {},
   "source": [
    "Python 对集合也提供了并集|、交集&，union、差集intersection,difference等运算"
   ]
  },
  {
   "cell_type": "markdown",
   "id": "887ad86e",
   "metadata": {},
   "source": [
    "实操作业\n",
    "5. 元组和列表有哪些共同点？有哪些不同点？\n",
    "8. 用文字和自己画的示意图描述：字典存储一个键值对的底层过程。\n",
    "9. 集合和字典有什么关系？"
   ]
  },
  {
   "cell_type": "code",
   "execution_count": 61,
   "id": "cf980dfb",
   "metadata": {},
   "outputs": [
    {
     "data": {
      "text/plain": [
       "[30, 40, 50, 60, 70, 80]"
      ]
     },
     "execution_count": 61,
     "metadata": {},
     "output_type": "execute_result"
    }
   ],
   "source": [
    "#使用 range 生成序列：30,40,50,60,70,80\n",
    "a = [x for x in range(30,90,10)]\n",
    "a"
   ]
  },
  {
   "cell_type": "code",
   "execution_count": 62,
   "id": "0058c8af",
   "metadata": {},
   "outputs": [
    {
     "data": {
      "text/plain": [
       "[0, 18, 36, 54, 72, 90, 108, 126, 144, 162, 180, 198]"
      ]
     },
     "execution_count": 62,
     "metadata": {},
     "output_type": "execute_result"
    }
   ],
   "source": [
    "#推导式生成列表： a = [x*2 for x in range(100) if x%9==0]，手写出结果\n",
    "a = [x*2 for x in range(100) if x%9==0]\n",
    "a"
   ]
  },
  {
   "cell_type": "code",
   "execution_count": 65,
   "id": "b147a834",
   "metadata": {},
   "outputs": [
    {
     "data": {
      "text/plain": [
       "{'money': 300.15, 'date': '2018.10.18', 'name': '高小七'}"
      ]
     },
     "execution_count": 65,
     "metadata": {},
     "output_type": "execute_result"
    }
   ],
   "source": [
    "a={'money':300.15,'date':'2018.10.18','name':'高小七'}\n",
    "a"
   ]
  },
  {
   "cell_type": "code",
   "execution_count": 70,
   "id": "d0b3ad7b",
   "metadata": {},
   "outputs": [
    {
     "data": {
      "text/plain": [
       "{'money': 300.15, 'date': '2018.10.18', 'name': '高小七'}"
      ]
     },
     "execution_count": 70,
     "metadata": {},
     "output_type": "execute_result"
    }
   ],
   "source": [
    "a = dict(money=300.15,date='2018.10.18',name='高小七')\n",
    "a"
   ]
  },
  {
   "cell_type": "code",
   "execution_count": 71,
   "id": "e0b92a6c",
   "metadata": {},
   "outputs": [
    {
     "data": {
      "text/plain": [
       "{'money': 300.15, 'date': '2018.10.18', 'name': '高小七'}"
      ]
     },
     "execution_count": 71,
     "metadata": {},
     "output_type": "execute_result"
    }
   ],
   "source": [
    "a=dict([('money',300.15),('date','2018.10.18'),('name','高小七')])\n",
    "a"
   ]
  },
  {
   "cell_type": "markdown",
   "id": "59eafe48",
   "metadata": {},
   "source": [
    "# 第 4 章 控制语句"
   ]
  },
  {
   "cell_type": "markdown",
   "id": "21c3455a",
   "metadata": {},
   "source": [
    "变量、数据类型（整数、浮点数、布尔）、序列（字符串、列表、元组、字典、集合）\n",
    "\n",
    "选择结构有多种形式，分为：单分支、双分支、多分支。"
   ]
  },
  {
   "cell_type": "code",
   "execution_count": 103,
   "id": "d1c96dad",
   "metadata": {},
   "outputs": [
    {
     "name": "stdout",
     "output_type": "stream",
     "text": [
      "请输入数字89\n",
      "数字太大\n"
     ]
    }
   ],
   "source": [
    "#三元运算符,条件为真时的值 if (条件表达式) else 条件为假时的值\n",
    "num = input('请输入数字')\n",
    "print(num if int(num) <10 else '数字太大')"
   ]
  },
  {
   "cell_type": "code",
   "execution_count": 105,
   "id": "8c186073",
   "metadata": {},
   "outputs": [
    {
     "name": "stdout",
     "output_type": "stream",
     "text": [
      "请输入x轴坐标值10\n",
      "请输入y轴坐标值10\n",
      "第一象限\n"
     ]
    }
   ],
   "source": [
    "#已知点的坐标(x,y)，判断其所在的象限\n",
    "x=int(input('请输入x轴坐标值'))\n",
    "y=int(input('请输入y轴坐标值'))\n",
    "\n",
    "if x==0 and y==0:\n",
    "    print('原点')\n",
    "elif x==0 and y!=0:\n",
    "    print('y轴')\n",
    "elif x!=0 and y==0:\n",
    "    print('x轴')\n",
    "elif x>0 and y>0:\n",
    "    print('第一象限')\n",
    "elif x<0 and y>0:\n",
    "    print('第二象限')\n",
    "elif x<0 and y<0:\n",
    "    print('第三象限')\n",
    "else:\n",
    "    print('第四象限')"
   ]
  },
  {
   "cell_type": "markdown",
   "id": "3b070622",
   "metadata": {},
   "source": [
    "循环结构：while 循环，for 循环"
   ]
  },
  {
   "cell_type": "code",
   "execution_count": 106,
   "id": "5daa168c",
   "metadata": {},
   "outputs": [
    {
     "name": "stdout",
     "output_type": "stream",
     "text": [
      "0\n",
      "1\n",
      "2\n",
      "3\n",
      "4\n",
      "5\n",
      "6\n",
      "7\n",
      "8\n",
      "9\n",
      "10\n"
     ]
    }
   ],
   "source": [
    "#利用 while 循环打印从 0-10 的数字。\n",
    "num=0\n",
    "while num<=10:\n",
    "    print(num)\n",
    "    num+=1"
   ]
  },
  {
   "cell_type": "code",
   "execution_count": 108,
   "id": "bc1580cc",
   "metadata": {},
   "outputs": [
    {
     "name": "stdout",
     "output_type": "stream",
     "text": [
      "5050 2500 2550\n"
     ]
    }
   ],
   "source": [
    "#利用 while 循环，计算 1-100 之间数字的累加和；计算 1-100 之间偶数的累加和，计算 1-100 之间奇数的累加和。\n",
    "num=0\n",
    "li=[]\n",
    "li1=[]\n",
    "li2=[]\n",
    "while num<=100:\n",
    "    li.append(num)\n",
    "    if num%2== 0:\n",
    "        li2.append(num)\n",
    "    else:\n",
    "        li1.append(num)\n",
    "    num+=1\n",
    "    \n",
    "print(sum(li),sum(li1),sum(li2)) "
   ]
  },
  {
   "cell_type": "code",
   "execution_count": 109,
   "id": "1a9799b4",
   "metadata": {},
   "outputs": [
    {
     "name": "stdout",
     "output_type": "stream",
     "text": [
      "5050 2500 2550\n"
     ]
    }
   ],
   "source": [
    "#For 循环，计算 1-100 之间数字的累加和；计算 1-100 之间偶数的累加和，计算 1-100 之间奇数的累加和。\n",
    "li=[]\n",
    "li1=[]\n",
    "li2=[]\n",
    "for num in range(101):\n",
    "    li.append(num)\n",
    "    if num%2== 0:\n",
    "        li2.append(num)\n",
    "    else:\n",
    "        li1.append(num)\n",
    "    \n",
    "print(sum(li),sum(li1),sum(li2)) "
   ]
  },
  {
   "cell_type": "markdown",
   "id": "b854f90a",
   "metadata": {},
   "source": [
    "Python 包含以下几种可迭代对象：\n",
    "1. 序列。包含：字符串、列表、元组\n",
    "2. 字典\n",
    "3. 迭代器对象（iterator）range 对象是一个迭代器对象，用来产生指定范围的数字序列。\n",
    "4. 生成器函数（generator）\n",
    "5. 文件对象"
   ]
  },
  {
   "cell_type": "code",
   "execution_count": 74,
   "id": "c145ff2c",
   "metadata": {},
   "outputs": [
    {
     "name": "stdout",
     "output_type": "stream",
     "text": [
      "\n",
      "1*1=1\t\n",
      "2*1=2\t2*2=4\t\n",
      "3*1=3\t3*2=6\t3*3=9\t\n",
      "4*1=4\t4*2=8\t4*3=12\t4*4=16\t\n",
      "5*1=5\t5*2=10\t5*3=15\t5*4=20\t5*5=25\t\n",
      "6*1=6\t6*2=12\t6*3=18\t6*4=24\t6*5=30\t6*6=36\t\n",
      "7*1=7\t7*2=14\t7*3=21\t7*4=28\t7*5=35\t7*6=42\t7*7=49\t\n",
      "8*1=8\t8*2=16\t8*3=24\t8*4=32\t8*5=40\t8*6=48\t8*7=56\t8*8=64\t\n",
      "9*1=9\t9*2=18\t9*3=27\t9*4=36\t9*5=45\t9*6=54\t9*7=63\t9*8=72\t9*9=81\t\n"
     ]
    }
   ],
   "source": [
    "#嵌套循环打印九九乘法表\n",
    "for m in range(10):\n",
    "    for n in range(1,m+1):\n",
    "        print('{}*{}={}'.format(m,n,m*n),end='\\t')\n",
    "    print()#用于换行"
   ]
  },
  {
   "cell_type": "code",
   "execution_count": 75,
   "id": "a3a5e165",
   "metadata": {},
   "outputs": [
    {
     "data": {
      "text/plain": [
       "[{'name': '高小一', 'age': 18, 'salary': 30000, 'city': '北京'},\n",
       " {'name': '高小二', 'age': 19, 'salary': 20000, 'city': '上海'},\n",
       " {'name': '高小三', 'age': 20, 'salary': 10000, 'city': '深圳'}]"
      ]
     },
     "execution_count": 75,
     "metadata": {},
     "output_type": "execute_result"
    }
   ],
   "source": [
    "#列表和字典\n",
    "r1= dict(name=\"高小一\",age=18,salary=30000,city=\"北京\")\n",
    "r2= dict(name=\"高小二\",age=19,salary=20000,city=\"上海\")\n",
    "r3= dict(name=\"高小三\",age=20,salary=10000,city=\"深圳\")\n",
    "tb = [r1,r2,r3]\n",
    "tb"
   ]
  },
  {
   "cell_type": "markdown",
   "id": "8c36592e",
   "metadata": {},
   "source": [
    "break 语句可用于 while 和 for 循环，用来结束整个循环。当有嵌套循环时，break 语句只能跳出最近一层的循环。\n",
    "\n",
    "continue 语句用于结束本次循环，继续下一次。多个循环嵌套时，continue 也是应用于最\n",
    "近的一层循环。\n",
    "\n",
    "while、for 循环可以附带一个 else 语句（可选）。如果 for、while 语句没有被 break 语句\n",
    "结束，则会执行 else 子句，否则不执行。"
   ]
  },
  {
   "cell_type": "code",
   "execution_count": 119,
   "id": "b2881ac6",
   "metadata": {},
   "outputs": [
    {
     "name": "stdout",
     "output_type": "stream",
     "text": [
      "请输入员工的薪资（按 Q 或 q 结束）1000\n",
      "请输入员工的薪资（按 Q 或 q 结束）2000\n",
      "请输入员工的薪资（按 Q 或 q 结束）3000\n",
      "请输入员工的薪资（按 Q 或 q 结束）4000\n",
      "您已经全部录入 4 名员工的薪资\n",
      "员工数：4\n",
      "录入工资： [1000, 2000, 3000, 4000]\n",
      "平均工资2500.0\n"
     ]
    }
   ],
   "source": [
    "#要求输入员工的薪资，若薪资小于 0 则重新输入。最后打印出录入员工的数量和薪资明细，以及平均薪资\n",
    "empNum=0\n",
    "salarySum=0\n",
    "salarys=[]\n",
    "\n",
    "for i in range(4):\n",
    "    s=input('请输入员工的薪资（按 Q 或 q 结束）')\n",
    "    \n",
    "    if s.upper()=='Q':\n",
    "        print('录入完成，退出')\n",
    "        break\n",
    "        \n",
    "    if float(s)<0:\n",
    "        print('录入错误')\n",
    "        continue\n",
    "        \n",
    "    empNum+=1\n",
    "    salarySum+=int(s)\n",
    "    salarys.append(int(s))\n",
    "else:\n",
    "    print(\"您已经全部录入 4 名员工的薪资\")\n",
    "    \n",
    "print('员工数：{}'.format(empNum))\n",
    "print('录入工资：',salarys)\n",
    "print('平均工资{}'.format(salarySum/empNum))"
   ]
  },
  {
   "cell_type": "markdown",
   "id": "1d234996",
   "metadata": {},
   "source": [
    "循环代码优化遵守下面三个原则可以大大提高运行效率，避免不必要的低效计算：\n",
    "1. 尽量减少循环内部不必要的计算\n",
    "2. 嵌套循环中，尽量减少内层循环的计算，尽可能向外提。\n",
    "3. 局部变量查询较快，尽量使用局部变量\n",
    "\n",
    "1. 连接多个字符串，使用 join()而不使用+\n",
    "2. 列表进行元素插入和删除，尽量在列表尾部操作"
   ]
  },
  {
   "cell_type": "code",
   "execution_count": 81,
   "id": "fb80a93d",
   "metadata": {},
   "outputs": [
    {
     "name": "stdout",
     "output_type": "stream",
     "text": [
      "耗时：3.390073537826538\n",
      "优化后耗时：2.919308662414551\n"
     ]
    }
   ],
   "source": [
    "#有问题？\n",
    "#循环代码优化\n",
    "import time\n",
    "\n",
    "start01 =time.time()\n",
    "for m in range(1000):\n",
    "    result = []\n",
    "    for n in range(10000):\n",
    "        result.append(m*1000+n*100)#result.append(m*10+n*10)，前者更快，不清楚原因\n",
    "end01 =time.time()\n",
    "print('耗时：{}'.format(end01-start01))\n",
    "\n",
    "start02 =time.time()\n",
    "for m in range(1000):\n",
    "    result = []\n",
    "    c=m*1000\n",
    "    for n in range(10000):\n",
    "        result.append(c+n*100)\n",
    "end02 =time.time()\n",
    "print('优化后耗时：{}'.format(end02-start02))"
   ]
  },
  {
   "cell_type": "code",
   "execution_count": 82,
   "id": "a13adf4d",
   "metadata": {},
   "outputs": [
    {
     "name": "stdout",
     "output_type": "stream",
     "text": [
      "高淇-18-老师\n",
      "高老二-16-程序员\n",
      "高老三-20-公务员\n"
     ]
    }
   ],
   "source": [
    "#zip()并行迭代\n",
    "names = (\"高淇\",\"高老二\",\"高老三\",\"高老四\")\n",
    "ages = (18,16,20,25)\n",
    "jobs = (\"老师\",\"程序员\",\"公务员\")\n",
    "for names,ages,jobs in zip(names,ages,jobs):\n",
    "    print('{}-{}-{}'.format(names,ages,jobs))"
   ]
  },
  {
   "cell_type": "markdown",
   "id": "53cb3c67",
   "metadata": {},
   "source": [
    "推导式创建序列：列表推导式，字典推导式，集合推导式，生成器推导式（生成元组）"
   ]
  },
  {
   "cell_type": "code",
   "execution_count": 120,
   "id": "c00668c4",
   "metadata": {},
   "outputs": [
    {
     "data": {
      "text/plain": [
       "[10, 20, 30]"
      ]
     },
     "execution_count": 120,
     "metadata": {},
     "output_type": "execute_result"
    }
   ],
   "source": [
    "#列表推导式\n",
    "[x*2 for x in range(1,20) if x%5==0 ]"
   ]
  },
  {
   "cell_type": "code",
   "execution_count": 123,
   "id": "e750bc36",
   "metadata": {},
   "outputs": [
    {
     "data": {
      "text/plain": [
       "{' ': 9,\n",
       " 'i': 4,\n",
       " 'l': 3,\n",
       " 'o': 5,\n",
       " 'v': 3,\n",
       " 'e': 3,\n",
       " 'y': 1,\n",
       " 'u': 1,\n",
       " ',': 2,\n",
       " 's': 1,\n",
       " 'x': 1,\n",
       " 't': 1,\n",
       " 'g': 1,\n",
       " 'a': 1,\n",
       " 'q': 1}"
      ]
     },
     "execution_count": 123,
     "metadata": {},
     "output_type": "execute_result"
    }
   ],
   "source": [
    "#字典推导式\n",
    "#统计文本中字符出现的次数\n",
    "my_text = ' i love you, i love sxt, i love gaoqi'\n",
    "char_count={c:my_text.count(c) for c in my_text}\n",
    "char_count"
   ]
  },
  {
   "cell_type": "code",
   "execution_count": 124,
   "id": "e7c49e1e",
   "metadata": {},
   "outputs": [
    {
     "data": {
      "text/plain": [
       "{9, 18, 27, 36, 45, 54, 63, 72, 81, 90, 99}"
      ]
     },
     "execution_count": 124,
     "metadata": {},
     "output_type": "execute_result"
    }
   ],
   "source": [
    "#集合推导式生\n",
    "{x for x in range(1,100) if x%9==0}"
   ]
  },
  {
   "cell_type": "code",
   "execution_count": 125,
   "id": "6fefe15f",
   "metadata": {},
   "outputs": [
    {
     "data": {
      "text/plain": [
       "<generator object <genexpr> at 0x000002526A2FFA50>"
      ]
     },
     "execution_count": 125,
     "metadata": {},
     "output_type": "execute_result"
    }
   ],
   "source": [
    "#生成器推导式（生成元组），“一个生成器对象”。显然，元组是没有推导式的\n",
    "(x for x in range(1,100) if x%9==0)"
   ]
  },
  {
   "cell_type": "code",
   "execution_count": 126,
   "id": "870968ff",
   "metadata": {},
   "outputs": [
    {
     "name": "stdout",
     "output_type": "stream",
     "text": [
      "9 18 27 36 45 54 63 72 81 90 99 "
     ]
    }
   ],
   "source": [
    "gnt=(x for x in range(1,100) if x%9==0)\n",
    "for i in gnt:\n",
    "    print(i,end=' ')"
   ]
  },
  {
   "cell_type": "markdown",
   "id": "e76537b9",
   "metadata": {},
   "source": [
    "实操作业"
   ]
  },
  {
   "cell_type": "code",
   "execution_count": 79,
   "id": "56de0a48",
   "metadata": {},
   "outputs": [
    {
     "name": "stdout",
     "output_type": "stream",
     "text": [
      "耗时：4.163604974746704\n",
      "耗时：3.1501941680908203\n"
     ]
    }
   ],
   "source": [
    "\n",
    "import time\n",
    "start = time.time()\n",
    "for i in range(1000):\n",
    "    result = []\n",
    "    for m in range(10000):\n",
    "        result.append(i*1000+m*100)\n",
    "end = time.time()\n",
    "print(\"耗时：{0}\".format((end-start)))\n",
    "start2 = time.time()\n",
    "for i in range(1000):\n",
    "    result = []\n",
    "    c = i*1000\n",
    "    for m in range(10000):\n",
    "        result.append(c+m*100)\n",
    "end2 = time.time()\n",
    "print(\"耗时：{0}\".format((end2-start2)))"
   ]
  },
  {
   "cell_type": "code",
   "execution_count": 4,
   "id": "fe86ef39",
   "metadata": {},
   "outputs": [
    {
     "name": "stdout",
     "output_type": "stream",
     "text": [
      "101 5050 2550 2500\n"
     ]
    }
   ],
   "source": [
    "#利用 while 循环，计算 1-100 之间数字的累加和；计算 1-100 之间偶数的累加和，计算1-100 之间奇数的累加和\n",
    "sum = 0\n",
    "sum1 = 0\n",
    "sum2 = 0\n",
    "i =1\n",
    "while i<=100:\n",
    "    sum += i\n",
    "    if i%2 == 0:\n",
    "        sum1 += i\n",
    "    else:\n",
    "        sum2 += i\n",
    "    i += 1\n",
    "print(i,sum,sum1,sum2)"
   ]
  },
  {
   "cell_type": "code",
   "execution_count": 9,
   "id": "67157e36",
   "metadata": {},
   "outputs": [
    {
     "name": "stdout",
     "output_type": "stream",
     "text": [
      "5050\n",
      "2550\n",
      "2500\n"
     ]
    }
   ],
   "source": [
    "#利用 for 循环，计算 1-100 之间数字的累加和；计算 1-100 之间偶数的累加和，计算1-100 之间奇数的累加和\n",
    "sum = 0\n",
    "sum1 = 0\n",
    "sum2 = 0\n",
    "\n",
    "for i in range(101):\n",
    " sum += i\n",
    "print(sum)\n",
    "\n",
    "for i in range(2,101,2):\n",
    " sum1 += i\n",
    "print(sum1)\n",
    "\n",
    "for i in range(1,100,2):\n",
    " sum2 += i\n",
    "print(sum2)"
   ]
  },
  {
   "cell_type": "code",
   "execution_count": 11,
   "id": "fdc336e6",
   "metadata": {},
   "outputs": [
    {
     "name": "stdout",
     "output_type": "stream",
     "text": [
      "0 0 0 0 0 \n",
      "1 1 1 1 1 \n",
      "2 2 2 2 2 \n",
      "3 3 3 3 3 \n",
      "4 4 4 4 4 \n"
     ]
    }
   ],
   "source": [
    "#打印如下图案\n",
    "for m in range(5):\n",
    "    for n in range(5):\n",
    "        print(m, end=' ')\n",
    "    print()"
   ]
  },
  {
   "cell_type": "code",
   "execution_count": 136,
   "id": "134a2928",
   "metadata": {},
   "outputs": [
    {
     "name": "stdout",
     "output_type": "stream",
     "text": [
      "dict_items([('name', ['高小一', '高小二', '高小五']), ('age', [18, 19, 20])])\n",
      "dict_keys(['name', 'age'])\n",
      "dict_values([['高小一', '高小二', '高小五'], [18, 19, 20]])\n"
     ]
    }
   ],
   "source": [
    "a = {'name':['高小一','高小二','高小五'],'age':[18,19,20]}\n",
    "print(a.items())\n",
    "print(a.keys())\n",
    "print(a.values())"
   ]
  },
  {
   "cell_type": "code",
   "execution_count": 141,
   "id": "18e05d4a",
   "metadata": {},
   "outputs": [
    {
     "name": "stdout",
     "output_type": "stream",
     "text": [
      "19\n",
      "20\n"
     ]
    }
   ],
   "source": [
    "for i in a.get('age'):\n",
    "    if i>=19:\n",
    "        print(i)"
   ]
  },
  {
   "cell_type": "code",
   "execution_count": 9,
   "id": "cc32d97e",
   "metadata": {},
   "outputs": [
    {
     "name": "stdout",
     "output_type": "stream",
     "text": [
      "19\n",
      "20\n"
     ]
    }
   ],
   "source": [
    "a=[\n",
    "    {'name':'高小一','age':18},\n",
    "    {'name':'高小二','age':19},\n",
    "    {'name':'高小三','age':20}  \n",
    "]\n",
    "for i in range(len(a)):\n",
    "    if a[i].get('age')>=19:\n",
    "        print(a[i].get('age'))"
   ]
  },
  {
   "cell_type": "markdown",
   "id": "db79fcd4",
   "metadata": {},
   "source": [
    "# 第 5 章 函数用法和底层分析"
   ]
  },
  {
   "cell_type": "markdown",
   "id": "9e92dd08",
   "metadata": {},
   "source": [
    "函数的作用，不仅可以实现代码的复用，更能实现代码的一致性。\n",
    "一致性指的是，只要修改函数的代码，则所有调用该函数的地方都能得到体现"
   ]
  },
  {
   "cell_type": "markdown",
   "id": "ef60544e",
   "metadata": {},
   "source": [
    "Python 中函数分为如下几类：\n",
    "1. 内置函数\n",
    "我们前面使用的 str()、list()、len()等这些都是内置函数，我们可以拿来直接使用。\n",
    "2. 标准库函数\n",
    "我们可以通过 import 语句导入库，然后使用其中定义的函数\n",
    "3. 第三方库函数\n",
    "Python 社区也提供了很多高质量的库。下载安装这些库后，也是通过 import 语句导\n",
    "入，然后可以使用这些第三方库的函数\n",
    "4. 用户自定义函数\n",
    "用户自己定义的函数，显然也是开发中适应用户自身需求定义的函数。今天我们学习的\n",
    "就是如何自定义函数。"
   ]
  },
  {
   "cell_type": "markdown",
   "id": "b44d25a4",
   "metadata": {},
   "source": [
    "全局变量：\n",
    "1. 在函数和类定义之外声明的变量。作用域为定义的模块，从定义位置开始直到模块\n",
    "结束。\n",
    "2. 全局变量降低了函数的通用性和可读性。应尽量避免全局变量的使用。\n",
    "3. 全局变量一般做常量使用。\n",
    "4. 函数内要改变全局变量的值，使用 global 声明一下\n",
    "局部变量：\n",
    "1. 在函数体中（包含形式参数）声明的变量。\n",
    "2. 局部变量的引用比全局变量快，优先考虑使用。\n",
    "3. 如果局部变量和全局变量同名，则在函数内隐藏全局变量，只使用同名的局部变量"
   ]
  },
  {
   "cell_type": "code",
   "execution_count": 144,
   "id": "9364de43",
   "metadata": {},
   "outputs": [
    {
     "name": "stdout",
     "output_type": "stream",
     "text": [
      "100\n",
      "300\n"
     ]
    }
   ],
   "source": [
    "#全局变量的作用域测试\n",
    "a = 100\n",
    "#全局变量\n",
    "def f1():\n",
    "    global a #如果要在函数内改变全局变量的值，增加 global 关键字声明\n",
    "    print(a) #打印全局变量 a 的值\n",
    "    a = 300\n",
    "f1()\n",
    "print(a)"
   ]
  },
  {
   "cell_type": "code",
   "execution_count": 145,
   "id": "e6d30501",
   "metadata": {},
   "outputs": [
    {
     "name": "stdout",
     "output_type": "stream",
     "text": [
      "3\n",
      "100\n"
     ]
    }
   ],
   "source": [
    "#全局变量和局部变量同名测试\n",
    "a=100\n",
    "def f1():\n",
    "    a = 3 #同名的局部变量\n",
    "    print(a)\n",
    "f1()\n",
    "print(a) #a 仍然是 100，没有变化"
   ]
  },
  {
   "cell_type": "markdown",
   "id": "a8b96e99",
   "metadata": {},
   "source": [
    "局部变量的查询和访问速度比全局变量快，优先考虑使用，尤其是在循环的时候。\n",
    "在特别强调效率的地方或者循环次数较多的地方，可以通过将全局变量转为局部变量提高运\n",
    "行速度"
   ]
  },
  {
   "cell_type": "markdown",
   "id": "66839a76",
   "metadata": {},
   "source": [
    "可变对象有：\n",
    "字典、列表、集合、自定义的对象等\n",
    "不可变对象有：\n",
    "数字、字符串、元组、function 等\n",
    "\n",
    "传递参数是可变对象（例如：列表、字典、自定义的其他可变对象等），实际传递的还是对\n",
    "象的引用。在函数体中不创建新的对象拷贝，而是可以直接修改所传递的对象\n",
    "\n",
    "传递参数是不可变对象（例如：int、float、字符串、元组、布尔值），实际传递的还是对\n",
    "象的引用。在”赋值操作”时，由于不可变对象无法修改，系统会新创建一个对象。"
   ]
  },
  {
   "cell_type": "code",
   "execution_count": 153,
   "id": "0f27a736",
   "metadata": {},
   "outputs": [
    {
     "name": "stdout",
     "output_type": "stream",
     "text": [
      "第一次输出ID： 2552991985088\n",
      "第二次输出ID： 2552991985088\n",
      "[10, 20, 50]\n",
      "第三次输出ID： 2552991985088\n",
      "[10, 20, 50]\n"
     ]
    }
   ],
   "source": [
    "#参数传递：传递可变对象的引用\n",
    "b=[10,20]\n",
    "print('第一次输出ID：',id(b))\n",
    "def f(n):\n",
    "    print('第二次输出ID：',id(n))\n",
    "    b.append(50)\n",
    "    print(n)\n",
    "    print('第三次输出ID：',id(n))\n",
    "f(b)\n",
    "print(b)"
   ]
  },
  {
   "cell_type": "code",
   "execution_count": 154,
   "id": "ad56ff2a",
   "metadata": {},
   "outputs": [
    {
     "name": "stdout",
     "output_type": "stream",
     "text": [
      "第一次输出ID： 2552974340784\n",
      "第二次输出ID： 2552974340784\n",
      "sxtokk\n",
      "第三次输出ID： 2552991983280\n",
      "sxt\n"
     ]
    }
   ],
   "source": [
    "#参数传递：传递不可变对象的引用\n",
    "b='sxt'\n",
    "print('第一次输出ID：',id(b))\n",
    "def f(n):\n",
    "    print('第二次输出ID：',id(n))\n",
    "    n=n+'okk'\n",
    "    print(n)\n",
    "    print('第三次输出ID：',id(n))\n",
    "\n",
    "f(b)\n",
    "print(b)"
   ]
  },
  {
   "cell_type": "code",
   "execution_count": 158,
   "id": "1bc4643c",
   "metadata": {},
   "outputs": [
    {
     "name": "stdout",
     "output_type": "stream",
     "text": [
      "a: 2552969490752\n",
      "修改前m: 2552969490752\n",
      "修改前m子对象: 2552892123568\n",
      "(10, 20, [888, 6])\n",
      "修改后m: 2552969490752\n",
      "修改后m子对象: 2551210610960\n",
      "(10, 20, [888, 6])\n"
     ]
    }
   ],
   "source": [
    "#传递不可变对象时。不可变对象里面包含的子对象是可变的。则方法内修改了这个可变对象，源对象也发生了变化。\n",
    "#对象ID不变，子对象ID改变\n",
    "a = (10,20,[5,6])\n",
    "print(\"a:\",id(a))\n",
    "def test01(m):\n",
    "    print(\"修改前m:\",id(m))\n",
    "    print(\"修改前m子对象:\",id(m[2][0]))\n",
    "    m[2][0] = 888\n",
    "    print(m)\n",
    "    print(\"修改后m:\",id(m))\n",
    "    print(\"修改后m子对象:\",id(m[2][0]))\n",
    "test01(a)\n",
    "print(a)"
   ]
  },
  {
   "cell_type": "code",
   "execution_count": 155,
   "id": "4432a50e",
   "metadata": {},
   "outputs": [
    {
     "name": "stdout",
     "output_type": "stream",
     "text": [
      "-----浅拷贝copy-----\n",
      "[10, 20, [5, 6]] [10, 20, [5, 6]]\n",
      "[10, 20, [5, 6, 10]] [10, 20, [5, 6, 10], 50]\n",
      "\n",
      "-----深拷贝copy-----\n",
      "[10, 20, [5, 6]] [10, 20, [5, 6]]\n",
      "[10, 20, [5, 6]] [10, 20, [5, 6, 10], 50]\n"
     ]
    }
   ],
   "source": [
    "#测试浅拷贝和深拷贝\n",
    "#浅拷贝：不拷贝子对象的内容，只是拷贝子对象的引用。\n",
    "#深拷贝：会连子对象的内存也全部拷贝一份，对子对象的修改不会影响源对象\n",
    "import copy\n",
    "\n",
    "def testCopy(a):\n",
    "    print('-----浅拷贝copy-----')\n",
    "    b=copy.copy(a)\n",
    "    print(a,b)\n",
    "    b.append(50)\n",
    "    b[2].append(10)\n",
    "    print(a,b)\n",
    "\n",
    "def testDeepCopy(a):\n",
    "    print('-----深拷贝copy-----')\n",
    "    b=copy.deepcopy(a)\n",
    "    print(a,b)\n",
    "    b.append(50)\n",
    "    b[2].append(10)\n",
    "    print(a,b)\n",
    "    \n",
    "testCopy([10,20,[5,6]])\n",
    "print()\n",
    "testDeepCopy([10,20,[5,6]])"
   ]
  },
  {
   "cell_type": "code",
   "execution_count": 13,
   "id": "c348f4d1",
   "metadata": {},
   "outputs": [
    {
     "name": "stdout",
     "output_type": "stream",
     "text": [
      "a [10, 20, [5, 6]]\n",
      "b [10, 20, [5, 6]]\n",
      "浅拷贝......\n",
      "a [10, 20, [5, 6, 7]]\n",
      "b [10, 20, [5, 6, 7], 30]\n",
      "*************\n",
      "a [10, 20, [5, 6]]\n",
      "b [10, 20, [5, 6]]\n",
      "深拷贝......\n",
      "a [10, 20, [5, 6]]\n",
      "b [10, 20, [5, 6, 7], 30]\n"
     ]
    }
   ],
   "source": [
    "#测试浅拷贝和深拷贝\n",
    "#子对象7在浅拷贝影响源对象，30不影响\n",
    "#浅拷贝拷贝了子对象的引用，修改7会影响源对象\n",
    "#深拷贝不会影响源对象\n",
    "import copy\n",
    "def testCopy():\n",
    "    '''测试浅拷贝'''\n",
    "    a = [10, 20, [5, 6]]\n",
    "    b = copy.copy(a)\n",
    "    print(\"a\", a)\n",
    "    print(\"b\", b)\n",
    "    b.append(30)\n",
    "    b[2].append(7)\n",
    "    print(\"浅拷贝......\")\n",
    "    print(\"a\", a)\n",
    "    print(\"b\", b)\n",
    "    \n",
    "def testDeepCopy():\n",
    "    '''测试深拷贝'''\n",
    "    a = [10, 20, [5, 6]]\n",
    "    b = copy.deepcopy(a)\n",
    "    print(\"a\", a)\n",
    "    print(\"b\", b)\n",
    "    b.append(30)\n",
    "    b[2].append(7)\n",
    "    print(\"深拷贝......\")\n",
    "    print(\"a\", a)\n",
    "    print(\"b\", b)\n",
    "testCopy()\n",
    "print(\"*************\")\n",
    "testDeepCopy()"
   ]
  },
  {
   "cell_type": "markdown",
   "id": "f5f53ded",
   "metadata": {},
   "source": [
    "参数的几种类型：位置参数，默认值参数，命名参数，可变参数，强制命名参数"
   ]
  },
  {
   "cell_type": "code",
   "execution_count": 161,
   "id": "47a543b4",
   "metadata": {},
   "outputs": [
    {
     "ename": "TypeError",
     "evalue": "f1() missing 1 required positional argument: 'c'",
     "output_type": "error",
     "traceback": [
      "\u001b[1;31m---------------------------------------------------------------------------\u001b[0m",
      "\u001b[1;31mTypeError\u001b[0m                                 Traceback (most recent call last)",
      "\u001b[1;32m~\\AppData\\Local\\Temp\\ipykernel_13008\\3756769990.py\u001b[0m in \u001b[0;36m<module>\u001b[1;34m\u001b[0m\n\u001b[0;32m      2\u001b[0m     \u001b[0mprint\u001b[0m\u001b[1;33m(\u001b[0m\u001b[0ma\u001b[0m\u001b[1;33m,\u001b[0m\u001b[0mb\u001b[0m\u001b[1;33m,\u001b[0m\u001b[0mc\u001b[0m\u001b[1;33m)\u001b[0m\u001b[1;33m\u001b[0m\u001b[1;33m\u001b[0m\u001b[0m\n\u001b[0;32m      3\u001b[0m \u001b[1;31m# f1(2,3,4)\u001b[0m\u001b[1;33m\u001b[0m\u001b[1;33m\u001b[0m\u001b[0m\n\u001b[1;32m----> 4\u001b[1;33m \u001b[0mf1\u001b[0m\u001b[1;33m(\u001b[0m\u001b[1;36m2\u001b[0m\u001b[1;33m,\u001b[0m\u001b[1;36m3\u001b[0m\u001b[1;33m)\u001b[0m \u001b[1;31m#报错，位置参数不匹配\u001b[0m\u001b[1;33m\u001b[0m\u001b[1;33m\u001b[0m\u001b[0m\n\u001b[0m",
      "\u001b[1;31mTypeError\u001b[0m: f1() missing 1 required positional argument: 'c'"
     ]
    }
   ],
   "source": [
    "#位置参数\n",
    "def f1(a,b,c):\n",
    "    print(a,b,c)\n",
    "# f1(2,3,4)\n",
    "f1(2,3) #报错，位置参数不匹配"
   ]
  },
  {
   "cell_type": "code",
   "execution_count": 164,
   "id": "742b6119",
   "metadata": {},
   "outputs": [
    {
     "name": "stdout",
     "output_type": "stream",
     "text": [
      "8 9 19 20\n"
     ]
    }
   ],
   "source": [
    "#默认值参数\n",
    "def f1(a,b,c=10,d=20): #默认值参数必须位于普通位置参数后面\n",
    "    print(a,b,c,d)\n",
    "# f1(8,9)\n",
    "f1(8,9,19)\n",
    "# f1(8,9,19,29)"
   ]
  },
  {
   "cell_type": "code",
   "execution_count": 166,
   "id": "bbcb85d0",
   "metadata": {},
   "outputs": [
    {
     "name": "stdout",
     "output_type": "stream",
     "text": [
      "8 9 19\n",
      "20 30 10\n"
     ]
    }
   ],
   "source": [
    "#命名参数\n",
    "def f1(a,b,c):\n",
    "    print(a,b,c)\n",
    "f1(8,9,19)\n",
    "#位置参数\n",
    "f1(c=10,a=20,b=30) #命名参数"
   ]
  },
  {
   "cell_type": "code",
   "execution_count": 168,
   "id": "ee7f2816",
   "metadata": {},
   "outputs": [
    {
     "name": "stdout",
     "output_type": "stream",
     "text": [
      "8 9 (19, 20)\n",
      "8 9 {'name': 'gaoqi', 'age': 18}\n",
      "8 9 (20, 30) {'name': 'gaoqi', 'age': 18}\n"
     ]
    }
   ],
   "source": [
    "#可变参数\n",
    "# 可变参数指的是“可变数量的参数”。分两种情况：\n",
    "# 1. *param（一个星号），将多个参数收集到一个“元组”对象中。\n",
    "# 2. **param（两个星号），将多个参数收集到一个“字典”对象中。\n",
    "def f1(a,b,*c):\n",
    "    print(a,b,c)\n",
    "f1(8,9,19,20)\n",
    "\n",
    "def f2(a,b,**c):\n",
    "    print(a,b,c)\n",
    "\n",
    "f2(8,9,name='gaoqi',age=18)\n",
    "    \n",
    "def f3(a,b,*c,**d):\n",
    "    print(a,b,c,d)\n",
    "f3(8,9,20,30,name='gaoqi',age=18)"
   ]
  },
  {
   "cell_type": "code",
   "execution_count": 169,
   "id": "5cfcf13c",
   "metadata": {},
   "outputs": [
    {
     "name": "stdout",
     "output_type": "stream",
     "text": [
      "(2,) 3 4\n"
     ]
    }
   ],
   "source": [
    "#在带星号的“可变参数”后面增加新的参数，必须在调用的时候“强制命名参数”。\n",
    "def f1(*a,b,c):\n",
    "    print(a,b,c)\n",
    "#f1(2,3,4) #会报错。由于 a 是可变参数，将 2,3,4 全部收集。造成 b 和 c 没有赋值。\n",
    "f1(2,b=3,c=4)"
   ]
  },
  {
   "cell_type": "code",
   "execution_count": null,
   "id": "282e7c17",
   "metadata": {},
   "outputs": [],
   "source": [
    "lambda匿名函数,eval(),递归函数，嵌套函数"
   ]
  },
  {
   "cell_type": "code",
   "execution_count": 18,
   "id": "879a3135",
   "metadata": {},
   "outputs": [
    {
     "name": "stdout",
     "output_type": "stream",
     "text": [
      "9\n",
      "2 6 12\n"
     ]
    }
   ],
   "source": [
    "#lambda 表达式使用，声明匿名函数\n",
    "f = lambda a,b,c:a+b+c\n",
    "print(f(2,3,4))\n",
    "\n",
    "g = [lambda a:a*2,lambda b:b*3,lambda c:c*4]\n",
    "print(g[0](1),g[1](2),g[2](3))\n",
    "#a=1,b=2,c=3"
   ]
  },
  {
   "cell_type": "code",
   "execution_count": 24,
   "id": "b028afef",
   "metadata": {},
   "outputs": [
    {
     "name": "stdout",
     "output_type": "stream",
     "text": [
      "abniimm\n",
      "None\n",
      "30\n",
      "300\n"
     ]
    }
   ],
   "source": [
    "#eval()函数功能：将字符串 str 当成有效的表达式来求值并返回计算结果。\n",
    "#eval 函数会将字符串当做语句来执行，因此会被注入安全隐患。比如：字符串中含有删除文件的语句。那就麻烦大了。因此，使用时候，要慎重！！！\n",
    "a=\"print('abniimm')\"\n",
    "print(eval(a))\n",
    "\n",
    "c=10\n",
    "b=20\n",
    "print(eval('c+b'))\n",
    "\n",
    "d = dict(e=100,f=200)\n",
    "print(eval('e+f',d))"
   ]
  },
  {
   "cell_type": "code",
   "execution_count": 31,
   "id": "9649470b",
   "metadata": {},
   "outputs": [
    {
     "name": "stdout",
     "output_type": "stream",
     "text": [
      "1 != 1\n",
      "2 != 2\n",
      "3 != 6\n",
      "4 != 24\n",
      "5 != 120\n",
      "6 != 720\n",
      "7 != 5040\n",
      "8 != 40320\n",
      "9 != 362880\n"
     ]
    }
   ],
   "source": [
    "#使用递归函数计算阶乘(factorial)\n",
    "def factorial(n):\n",
    "    if n==1:\n",
    "        return 1\n",
    "    else:\n",
    "        return n*factorial(n-1)\n",
    "\n",
    "for i in range(1,10):\n",
    "    print(i,'!=',factorial(i))"
   ]
  },
  {
   "cell_type": "code",
   "execution_count": 33,
   "id": "85ea789a",
   "metadata": {},
   "outputs": [
    {
     "name": "stdout",
     "output_type": "stream",
     "text": [
      "高 小七\n",
      "xiaoqi gao\n"
     ]
    }
   ],
   "source": [
    "#嵌套函数(内部函数)\n",
    "#一般在什么情况下使用嵌套函数？\n",
    "#1. 封装 - 数据隐藏,外部无法访问“嵌套函数”。\n",
    "#2. 贯彻 DRY(Don’t Repeat Yourself) 原则,嵌套函数，可以让我们在函数内部避免重复代码。\n",
    "#3. 闭包\n",
    "def printName(isChinese,familyName,name):\n",
    "    def inner_print(a,b):\n",
    "        print(a,b)\n",
    "        \n",
    "    if isChinese:\n",
    "        inner_print(familyName,name)\n",
    "    else:\n",
    "        inner_print(name,familyName)\n",
    "        \n",
    "printName(True,'高','小七')\n",
    "printName(False,'gao','xiaoqi')"
   ]
  },
  {
   "cell_type": "markdown",
   "id": "ae781a98",
   "metadata": {},
   "source": [
    " nonlocal 用来声明外层的局部变量。\n",
    "global 用来声明全局变量。"
   ]
  },
  {
   "cell_type": "code",
   "execution_count": 3,
   "id": "dbcc6983",
   "metadata": {},
   "outputs": [
    {
     "name": "stdout",
     "output_type": "stream",
     "text": [
      "inner b: 10\n",
      "outer b: 20\n",
      "a： 1000\n"
     ]
    }
   ],
   "source": [
    "#测试 nonlocal、global 关键字的用法\n",
    "a = 100\n",
    "def outer():\n",
    "    b = 10\n",
    "    def inner():\n",
    "        nonlocal b##声明外部函数的局部变量\n",
    "        print(\"inner b:\",b)\n",
    "        b = 20\n",
    "        \n",
    "        global a\n",
    "        a = 1000\n",
    "    inner()\n",
    "    print(\"outer b:\",b)\n",
    "outer()\n",
    "print(\"a：\",a)"
   ]
  },
  {
   "cell_type": "markdown",
   "id": "5555e116",
   "metadata": {},
   "source": [
    "Python 在查找“名称”时，是按照 LEGB 规则查找的：\n",
    "Local-->Enclosed-->Global-->Built in\n",
    "\n",
    "Local 指的就是函数或者类的方法内部\n",
    "\n",
    "Enclosed 指的是嵌套函数（一个函数包裹另一个函数，闭包）\n",
    "\n",
    "Global 指的是模块中的全局变量\n",
    "\n",
    "Built in 指的是 Python 为自己保留的特殊名称。"
   ]
  },
  {
   "cell_type": "markdown",
   "id": "10952cc7",
   "metadata": {},
   "source": [
    "实操作业"
   ]
  },
  {
   "cell_type": "code",
   "execution_count": 37,
   "id": "fee17b25",
   "metadata": {},
   "outputs": [
    {
     "name": "stdout",
     "output_type": "stream",
     "text": [
      "[5, 4, 2, 3]\n"
     ]
    }
   ],
   "source": [
    "#定义一个函数实现反响输出一个整数。比如：输入 3245，输出 5432.\n",
    "def reverseNum(a):\n",
    "#     li=[]\n",
    "#     for i in range(1,len(a)+1):\n",
    "#         li.append(a%(10**i))\n",
    "#     print(li[::-1])\n",
    "    s1=a//1000\n",
    "    s2=a//100%10\n",
    "    s3=a//10%10\n",
    "    s4=a%10\n",
    "    li=[s4,s3,s2,s1]\n",
    "    print(li)\n",
    "reverseNum(3245)"
   ]
  },
  {
   "cell_type": "code",
   "execution_count": 42,
   "id": "73dcaaac",
   "metadata": {},
   "outputs": [
    {
     "data": {
      "text/plain": [
       "1.9166666666666665"
      ]
     },
     "execution_count": 42,
     "metadata": {},
     "output_type": "execute_result"
    }
   ],
   "source": [
    "#数列：1/2+2/3+3/4+。。。+n/n+1\n",
    "def f(n):\n",
    "    if n==1:\n",
    "        return 1/2\n",
    "    else:\n",
    "        return n/(n+1)+f(n-1)\n"
   ]
  },
  {
   "cell_type": "code",
   "execution_count": 43,
   "id": "c4b06380",
   "metadata": {},
   "outputs": [
    {
     "ename": "SyntaxError",
     "evalue": "invalid character '，' (U+FF0C) (4164383779.py, line 1)",
     "output_type": "error",
     "traceback": [
      "\u001b[0;36m  File \u001b[0;32m\"/var/folders/f1/tclmhrc960zcf5qrwdg2q8840000gn/T/ipykernel_39096/4164383779.py\"\u001b[0;36m, line \u001b[0;32m1\u001b[0m\n\u001b[0;31m    输入三角形三个顶点的坐标，若有效则计算三角形的面积；如坐标无效，则给出提\u001b[0m\n\u001b[0m                ^\u001b[0m\n\u001b[0;31mSyntaxError\u001b[0m\u001b[0;31m:\u001b[0m invalid character '，' (U+FF0C)\n"
     ]
    }
   ],
   "source": [
    "#输入三角形三个顶点的坐标，若有效则计算三角形的面积；如坐标无效，则给出提示。"
   ]
  },
  {
   "cell_type": "code",
   "execution_count": 44,
   "id": "3d8bca6b",
   "metadata": {},
   "outputs": [
    {
     "data": {
      "text/plain": [
       "(0.1, 6.0, 360.0)"
      ]
     },
     "execution_count": 44,
     "metadata": {},
     "output_type": "execute_result"
    }
   ],
   "source": [
    "#输入一个毫秒数，将该数字换算成小时数，分钟数、秒数。\n",
    "def timeCalc(n):\n",
    "    return(n/(1000*60*60),n/(1000*60),n/1000)\n",
    "timeCalc(360000)"
   ]
  },
  {
   "cell_type": "code",
   "execution_count": 45,
   "id": "7be7dca2",
   "metadata": {},
   "outputs": [
    {
     "ename": "IndexError",
     "evalue": "list index out of range",
     "output_type": "error",
     "traceback": [
      "\u001b[0;31m---------------------------------------------------------------------------\u001b[0m",
      "\u001b[0;31mIndexError\u001b[0m                                Traceback (most recent call last)",
      "\u001b[0;32m/var/folders/f1/tclmhrc960zcf5qrwdg2q8840000gn/T/ipykernel_39096/3602996186.py\u001b[0m in \u001b[0;36m<module>\u001b[0;34m\u001b[0m\n\u001b[1;32m      6\u001b[0m     \u001b[0;32mfor\u001b[0m \u001b[0mn\u001b[0m \u001b[0;32min\u001b[0m \u001b[0;34m(\u001b[0m\u001b[0mm\u001b[0m\u001b[0;34m+\u001b[0m\u001b[0;36m1\u001b[0m\u001b[0;34m,\u001b[0m\u001b[0mlen\u001b[0m\u001b[0;34m(\u001b[0m\u001b[0mli\u001b[0m\u001b[0;34m)\u001b[0m\u001b[0;34m)\u001b[0m\u001b[0;34m:\u001b[0m\u001b[0;34m\u001b[0m\u001b[0;34m\u001b[0m\u001b[0m\n\u001b[1;32m      7\u001b[0m         \u001b[0mt\u001b[0m\u001b[0;34m.\u001b[0m\u001b[0mgoto\u001b[0m\u001b[0;34m(\u001b[0m\u001b[0mli\u001b[0m\u001b[0;34m[\u001b[0m\u001b[0mm\u001b[0m\u001b[0;34m]\u001b[0m\u001b[0;34m)\u001b[0m\u001b[0;34m\u001b[0m\u001b[0;34m\u001b[0m\u001b[0m\n\u001b[0;32m----> 8\u001b[0;31m         \u001b[0mt\u001b[0m\u001b[0;34m.\u001b[0m\u001b[0mgoto\u001b[0m\u001b[0;34m(\u001b[0m\u001b[0mli\u001b[0m\u001b[0;34m[\u001b[0m\u001b[0mn\u001b[0m\u001b[0;34m]\u001b[0m\u001b[0;34m)\u001b[0m\u001b[0;34m\u001b[0m\u001b[0;34m\u001b[0m\u001b[0m\n\u001b[0m",
      "\u001b[0;31mIndexError\u001b[0m: list index out of range"
     ]
    }
   ],
   "source": [
    "#使用海龟绘图。输入多个点，将这些点都两两相连。\n",
    "import turtle\n",
    "li=[[200,200],[200,300],[300,600],[0,400]]\n",
    "t=turtle.Pen()\n",
    "for m in range(len(li)):\n",
    "    for n in range(m+1,len(li)):\n",
    "        t.pendown()\n",
    "        t.goto(li[m])\n",
    "        t.goto(li[n])\n"
   ]
  },
  {
   "cell_type": "markdown",
   "id": "77de4e27",
   "metadata": {},
   "source": [
    "# 第 6 章(1) 面向对象初步"
   ]
  },
  {
   "cell_type": "markdown",
   "id": "a0e4cd04",
   "metadata": {},
   "source": [
    "1、面向对象：基本功能：继承，多态，封装，怎么设计这个事物，顶层设计者行为\n",
    "2、面向过程：程序的逻辑流程，怎么按步骤实现，适合小规模的程序\n",
    "3、函数式编程：\n",
    "宏观面向对象，微观面向过程\n",
    "对象的进化：简单数据》数据》结构体》对象\n",
    "将不同类型的数据、方法（即函数）放到一起，就是对象。"
   ]
  },
  {
   "cell_type": "markdown",
   "id": "203c8d8d",
   "metadata": {},
   "source": [
    "对象是类的具体实体，一般称为“类的实例”。类看做“饼干模具”，对象就是根据这个“模具”制造出的“饼干”"
   ]
  },
  {
   "cell_type": "markdown",
   "id": "154fad04",
   "metadata": {},
   "source": [
    "一个 Python 对象包含如下部分：\n",
    "1. id（identity 识别码）\n",
    "2. type（对象类型）\n",
    "3. value（对象的值）\n",
    "(1) 属性（attribute）\n",
    "(2) 方法（method）"
   ]
  },
  {
   "cell_type": "markdown",
   "id": "26de9d33",
   "metadata": {},
   "source": [
    "__init__\n",
    "()的要点如下：\n",
    "1. 名称固定，必须为：__init__()\n",
    "2. 第一个参数固定，必须为：self。 self 指的就是刚刚创建好的实例对象。\n",
    "3. 构造函数通常用来初始化实例对象的实例属性，如下代码就是初始化实例属性：name\n",
    "和 score。\n",
    "4. 通过“类名(参数列表)”来调用构造函数。调用后，将创建好的对象返回给相应的变量。\n",
    "比如：s1 = Student('张三', 80)\n",
    "5.__init__()方法：初始化创建好的对象，初始化指的是：“给实例属性赋值”\n",
    "6.__new__()方法: 用于创建对象，但我们一般无需重定义该方法。\n",
    "7. 如果我们不定义__init__方法，系统会提供一个默认的__init__方法。如果我们定义了带参\n",
    "的__init__方法，系统不创建默认的__init__方法。\n",
    "注：\n",
    "1. Python 中的 self 相当于 C++中的 self 指针，JAVA 和 C#中的 this 关键字。Python 中，\n",
    "self 必须为构造函数的第一个参数，名字可以任意修改。但一般遵守惯例，都叫做 self。"
   ]
  },
  {
   "cell_type": "markdown",
   "id": "2fb6a0ef",
   "metadata": {},
   "source": [
    "1.构造方法\n",
    "\n",
    "2.实例方法 self\n",
    "\n",
    "3.类方法是从属于“类对象”的方法。类方法通过装饰器@classmethod 来定义，cls\n",
    "\n",
    "4.与“类对象”无关的方法，称为“静态方法”，通过装饰器@staticmethod 来定义"
   ]
  },
  {
   "cell_type": "code",
   "execution_count": 6,
   "id": "e22e5b2b",
   "metadata": {},
   "outputs": [
    {
     "name": "stdout",
     "output_type": "stream",
     "text": [
      "我的公司是： SXT\n",
      "张三的成绩是：80\n",
      "一共创建 3 个 Student 对象\n",
      "\n",
      "SXT\n",
      "\n",
      "20+30=50\n"
     ]
    }
   ],
   "source": [
    "#一个典型的类的定义\n",
    "class Student:\n",
    "    company='SXT'#类属性,所有实例对象共享\n",
    "    count=0\n",
    "    \n",
    "    def __init__(self,name,score):#构造方法第一个参数必须为 self\n",
    "        self.name=name#实例属性\n",
    "        self.score=score\n",
    "        Student.count+=1\n",
    "        \n",
    "    def print_score(self):#实例方法\n",
    "        print('我的公司是： {}'.format(Student.company))\n",
    "        print('{}的成绩是：{}'.format(self.name,self.score))\n",
    "\n",
    "    @classmethod\n",
    "    def print_company(cls):#类方法\n",
    "        print(cls.company)\n",
    "    \n",
    "    @staticmethod\n",
    "    def add(a,b):#静态方法\n",
    "        print('{}+{}={}'.format(a,b,a+b))\n",
    "        \n",
    "s1=Student('张三',80)#s1 是实例对象，自动调用__init__()方法\n",
    "s1.print_score()\n",
    "s2=Student('张yi',70)\n",
    "s3=Student('张er',60)\n",
    "print('一共创建 {} 个 Student 对象'.format(Student.count))\n",
    "\n",
    "print()\n",
    "Student.print_company()#类方法的调用\n",
    "\n",
    "print()\n",
    "Student.add(20,30)#静态方法的调用"
   ]
  },
  {
   "cell_type": "markdown",
   "id": "f170d20f",
   "metadata": {},
   "source": [
    "1.__del__方法(析构函数)和垃圾回收机制,一般不需要定义析构\n",
    "\n",
    "2.__call__方法的对象，称为“可调用对象”，即该对象可以像函数一样被调用。"
   ]
  },
  {
   "cell_type": "code",
   "execution_count": 17,
   "id": "e579e6e5",
   "metadata": {},
   "outputs": [
    {
     "name": "stdout",
     "output_type": "stream",
     "text": [
      "销毁对象：<__main__.Person object at 0x10898aee0>\n",
      "销毁对象：<__main__.Person object at 0x108918fa0>\n",
      "程序结束\n",
      "<__main__.Person object at 0x108918400>\n"
     ]
    }
   ],
   "source": [
    "#.__del__方法\n",
    "class Person:\n",
    "    def __del__(self):\n",
    "        print('销毁对象：{}'.format(self))\n",
    "\n",
    "p1=Person()\n",
    "p2=Person()\n",
    "del p2\n",
    "print('程序结束')\n",
    "print(p1)\n",
    "# print(p2)"
   ]
  },
  {
   "cell_type": "code",
   "execution_count": 20,
   "id": "b434cc12",
   "metadata": {},
   "outputs": [
    {
     "name": "stdout",
     "output_type": "stream",
     "text": [
      "{'year_salary': 36000, 'day_salary': 100}\n"
     ]
    }
   ],
   "source": [
    "#__call__方法\n",
    "class SalaryAccount:\n",
    "    def __call__(self,salary):\n",
    "        year_salary=salary*12\n",
    "        day_salary=salary//30\n",
    "        return dict({'year_salary':year_salary,'day_salary':day_salary})\n",
    "    \n",
    "s=SalaryAccount()\n",
    "print(s(3000))"
   ]
  },
  {
   "cell_type": "code",
   "execution_count": 24,
   "id": "44113f30",
   "metadata": {},
   "outputs": [
    {
     "name": "stdout",
     "output_type": "stream",
     "text": [
      "hello,张三\n"
     ]
    }
   ],
   "source": [
    "#方法没有重载,在类体中定义了多个重名的方法，只有最后一个方法有效。\n",
    "class Person:\n",
    "\n",
    "    def sayhi(self):\n",
    "        print('hello')\n",
    "        \n",
    "    def sayhi(self,name):\n",
    "        print('hello,{}'.format(name))\n",
    "\n",
    "p=Person()\n",
    "# p.sayhi()#不带参，报错：TypeError: say_hi() missing 1 required positional argument: 'name'\n",
    "p.sayhi('张三')"
   ]
  },
  {
   "cell_type": "code",
   "execution_count": 29,
   "id": "5b4f5723",
   "metadata": {},
   "outputs": [
    {
     "name": "stdout",
     "output_type": "stream",
     "text": [
      "<__main__.Person object at 0x108982940>玩游戏\n",
      "努力上班！\n"
     ]
    }
   ],
   "source": [
    "#测试方法的动态性动态的为类添加新的方法，或者动态的修改类的已有的方法。\n",
    "\n",
    "class Person:\n",
    "    def work(self):\n",
    "        print(\"努力上班！\")\n",
    "def play_game(self):\n",
    "    print(\"{0}玩游戏\".format(self))\n",
    "def work2(s):\n",
    "    print(\"好好工作，努力上班！\")\n",
    "\n",
    "Person.play = play_game#新增了 play_game 方法，\n",
    "Person.work = work2#work2 替换了 work 方法\n",
    "p = Person()\n",
    "p.play()\n",
    "p.work()"
   ]
  },
  {
   "cell_type": "markdown",
   "id": "e13de265",
   "metadata": {},
   "source": [
    "1. 通常我们约定，两个下划线开头的属性是私有的(private)。其他为公共的(public)。\n",
    "2. 类内部可以访问私有属性(方法)\n",
    "3. 类外部不能直接访问私有属性(方法)\n",
    "4. 类外部可以通过“_类名__私有属性(方法)名”访问私有属性(方法)"
   ]
  },
  {
   "cell_type": "code",
   "execution_count": 53,
   "id": "53292d93",
   "metadata": {},
   "outputs": [
    {
     "name": "stdout",
     "output_type": "stream",
     "text": [
      "高淇\n",
      "['_Employee__age', '_Employee__company', '_Employee__work', '__class__', '__delattr__', '__dict__', '__dir__', '__doc__', '__eq__', '__format__', '__ge__', '__getattribute__', '__gt__', '__hash__', '__init__', '__init_subclass__', '__le__', '__lt__', '__module__', '__ne__', '__new__', '__reduce__', '__reduce_ex__', '__repr__', '__setattr__', '__sizeof__', '__str__', '__subclasshook__', '__weakref__', 'name', 'say_company']\n",
      "我的公司是：百战程序员\n",
      "高淇 的年龄是： 32\n",
      "好好工作！\n"
     ]
    }
   ],
   "source": [
    "#私有属性和公有属性使用测试\n",
    "class Employee:\n",
    "    __company='百战程序员'#私有类属性. 通过 dir 可以查到\n",
    "    \n",
    "    def __init__(self,name,age):\n",
    "        self.name=name\n",
    "        self.__age=age#私有实例属性\n",
    "        \n",
    "    def say_company(self):\n",
    "        #类内部可以直接访问私有属性\n",
    "        print('我的公司是：{}'.format(Employee.__company))\n",
    "        print(self.name,'的年龄是：',self.__age)\n",
    "        self.__work()\n",
    "    \n",
    "    def __work(self):#私有实例方法\n",
    "        print('好好工作！')\n",
    "        \n",
    "p1 = Employee(\"高淇\",32)\n",
    "print(p1.name)\n",
    "# print(p1.__age)#直接访问私有属性，报错\n",
    "\n",
    "print(dir(p1))\n",
    "          \n",
    "p1.say_company()\n",
    "          \n",
    "# p1.__sleep()#直接访问私有方法，报错"
   ]
  },
  {
   "cell_type": "code",
   "execution_count": 56,
   "id": "094c567d",
   "metadata": {},
   "outputs": [
    {
     "name": "stdout",
     "output_type": "stream",
     "text": [
      "3000\n",
      "<class 'int'>\n"
     ]
    }
   ],
   "source": [
    "#@property 可以将一个方法的调用方式变成“属性调用”\n",
    "class Employee:\n",
    "    \n",
    "    @property\n",
    "    def salary(self):\n",
    "        return 3000\n",
    "\n",
    "e1=Employee()\n",
    "print(e1.salary)\n",
    "print(type(e1.salary))"
   ]
  },
  {
   "cell_type": "code",
   "execution_count": 76,
   "id": "58d4b001",
   "metadata": {},
   "outputs": [
    {
     "name": "stdout",
     "output_type": "stream",
     "text": [
      "高淇的薪水是：100\n",
      "100\n",
      "\n",
      "薪水错误\n",
      "高淇的薪水是：100\n",
      "100\n"
     ]
    }
   ],
   "source": [
    "#有疑问？\n",
    "#我需要限制薪水必须为 1-10000的数字。这时候，我们就需要通过 getter、setter 方法来处理\n",
    "class Employee:\n",
    "    \n",
    "    def __init__(self,name,salary):\n",
    "        self.name=name\n",
    "        self.__salary=salary#私有，阻止被乱改\n",
    "    \n",
    "    @property\n",
    "    def salary(self):\n",
    "        print('{}的薪水是：{}'.format(self.name,self.__salary))\n",
    "        return self.__salary\n",
    "    \n",
    "    @salary.setter\n",
    "    def salary(self,salary):\n",
    "        if salary>0:\n",
    "            self.__salary=salary\n",
    "        else:\n",
    "            print('薪水错误')\n",
    "\n",
    "e1=Employee(\"高淇\",100)\n",
    "print(e1.salary)\n",
    "print()\n",
    "e1.salary=-200#赋值调用的是setter方法\n",
    "print(e1.salary)\n",
    "\n",
    "# e2=Employee(\"高\",-200)\n",
    "# print(e2.salary)"
   ]
  },
  {
   "cell_type": "markdown",
   "id": "6969072a",
   "metadata": {},
   "source": [
    "实操作业"
   ]
  },
  {
   "cell_type": "code",
   "execution_count": 66,
   "id": "90b78844",
   "metadata": {},
   "outputs": [
    {
     "name": "stdout",
     "output_type": "stream",
     "text": [
      "20000\n",
      "600\n",
      "\n",
      "10000\n",
      "400\n"
     ]
    }
   ],
   "source": [
    "#设计一个名为 MyRectangle 的矩形类来表示矩形。这个类包含：\n",
    "#(1) 左上角顶点的坐标：x，y\n",
    "#(2) 宽度和高度：width、height\n",
    "#(3) 构造方法：传入 x，y，width，height。如果（x，y）不传则默认是 0，如果 width和 height 不传，则默认是 100.\n",
    "#(4) 定义一个 getArea() 计算面积的方法\n",
    "#(5) 定义一个 getPerimeter()，计算周长的方法\n",
    "#(6) 定义一个 draw()方法，使用海龟绘图绘制出这个矩形\n",
    "#x=0,y=0,width=100,height=100 默认参数值\n",
    "\n",
    "import turtle\n",
    "\n",
    "class MyRectangle:\n",
    "    def __init__(self,x=0,y=0,width=100,height=100):\n",
    "        self.x = x\n",
    "        self.y = y\n",
    "        self.width = width\n",
    "        self.height = height\n",
    "    \n",
    "    def getArea(self):\n",
    "        print(self.width*self.height)\n",
    "    \n",
    "    def getPerimeter(self):\n",
    "        print(2*(self.width+self.height))\n",
    "        \n",
    "    def draw(self):\n",
    "        t = turtle.Pen()\n",
    "        t.penup()\n",
    "        t.goto(self.x,self.y)\n",
    "        t.pendown()\n",
    "        t.forward(self.width)\n",
    "        t.right(90)\n",
    "        t.forward(self.height)\n",
    "        t.right(90)\n",
    "        t.forward(self.width)\n",
    "        t.right(90)\n",
    "        t.forward(self.height)\n",
    "        t.right(90)\n",
    "        \n",
    "f = MyRectangle(30,50,300,200)\n",
    "f.getArea()\n",
    "f.getPerimeter()\n",
    "f.draw()\n",
    "print()\n",
    "f1 = MyRectangle()\n",
    "f1.getArea()\n",
    "f1.getPerimeter()\n",
    "f1.draw()\n"
   ]
  },
  {
   "cell_type": "markdown",
   "id": "f4174626",
   "metadata": {},
   "source": [
    "# 第 6 章(2) 面向对象进阶"
   ]
  },
  {
   "cell_type": "markdown",
   "id": "d400cb69",
   "metadata": {},
   "source": [
    "Python 是面向对象的语言，也支持面向对象编程的三大特性：继承、封装（隐藏）、多态。\n",
    "\n",
    "·\n",
    "封装（隐藏）\n",
    "隐藏对象的属性和实现细节，只对外提供必要的方法。相当于将“细节封装起来”，只\n",
    "对外暴露“相关调用方法”。\n",
    "通过前面学习的“私有属性、私有方法”的方式，实现“封装”。Python 追求简洁的\n",
    "语法，没有严格的语法级别的“访问控制符”，更多的是依靠程序员自觉实现。\n",
    "\n",
    "·\n",
    "继承\n",
    "继承可以让子类具有父类的特性，提高了代码的重用性。\n",
    "从设计上是一种增量进化，原有父类设计不变的情况下，可以增加新的功能，或者改进\n",
    "已有的算法。\n",
    "\n",
    "·\n",
    "多态\n",
    "多态是指同一个方法调用由于对象不同会产生不同的行为。生活中这样的例子比比皆\n",
    "是：同样是休息方法，人不同休息方法不同。张三休息是睡觉，李四休息是玩游戏，程序员休息是“敲几行代码”。"
   ]
  },
  {
   "cell_type": "code",
   "execution_count": 74,
   "id": "35a02c52",
   "metadata": {},
   "outputs": [
    {
     "name": "stdout",
     "output_type": "stream",
     "text": [
      "张三的年龄是：15\n",
      "['__class__', '__delattr__', '__dict__', '__dir__', '__doc__', '__eq__', '__format__', '__ge__', '__getattribute__', '__gt__', '__hash__', '__init__', '__init_subclass__', '__le__', '__lt__', '__module__', '__ne__', '__new__', '__reduce__', '__reduce_ex__', '__repr__', '__setattr__', '__sizeof__', '__str__', '__subclasshook__', '__weakref__', 'age', 'name', 'say_age', 'score']\n"
     ]
    }
   ],
   "source": [
    "#继承\n",
    "class Person:\n",
    "    def __init__(self,name,age):\n",
    "        self.name =name\n",
    "        self.age = age\n",
    "        \n",
    "    def say_age(self):\n",
    "        print('{}的年龄是：{}'.format(self.name,self.age))\n",
    "\n",
    "#继承       \n",
    "class Student(Person):\n",
    "    def __init__(self,name,age,score):\n",
    "        self.score =score\n",
    "        Person.__init__(self,name,age)#构造函数中包含调用父类构造函数\n",
    "        #根据需要，不是必须。 子类并不会自动调用父类的__init__()，我们必须显式的调用它。\n",
    "\n",
    "s1 = Student('张三',15,87)\n",
    "s1.say_age()\n",
    "print(dir(s1))"
   ]
  },
  {
   "cell_type": "markdown",
   "id": "53da85bb",
   "metadata": {},
   "source": [
    "1. 成员继承：子类继承了父类除构造方法之外的所有成员。\n",
    "2. 方法重写：子类可以重新定义父类中的方法，这样就会覆盖父类的方法，也称为“重写”"
   ]
  },
  {
   "cell_type": "code",
   "execution_count": 85,
   "id": "7b39bb76",
   "metadata": {},
   "outputs": [
    {
     "name": "stdout",
     "output_type": "stream",
     "text": [
      "报告老师，张三的年龄是：19\n",
      "报告老师，张三的年龄是：19,分数是:86\n"
     ]
    }
   ],
   "source": [
    "class Person:\n",
    "    \n",
    "    def __init__(self,name,age):\n",
    "        self.name=name\n",
    "        self.age=age\n",
    "    \n",
    "    def say_age(self):\n",
    "        print('{}的年龄是：{}'.format(self.name,self.age))\n",
    "    \n",
    "class Student(Person):\n",
    "    \n",
    "    def __init__(self,name,age,score):\n",
    "        self.score = score\n",
    "        Person.__init__(self,name,age)\n",
    "        \n",
    "    #方法重写\n",
    "    def say_age(self):\n",
    "        print('报告老师，{}的年龄是：{}'.format(self.name,self.age))\n",
    "        \n",
    "    def say_score(self):\n",
    "        print('报告老师，{}的年龄是：{},分数是:{}'.format(self.name,self.age,self.score))\n",
    "\n",
    "s1=Student('张三',19,86)\n",
    "s1.say_age()\n",
    "s1.say_score()"
   ]
  },
  {
   "cell_type": "markdown",
   "id": "7b9cd0a4",
   "metadata": {},
   "source": [
    "1.通过类的方法 mro()或者类的属性__mro__可以输出这个类的继承层次结构。\n",
    "\n",
    "2.dir()查看对象属性\n",
    "\n",
    "3.__str__()方法，用于返回一个对于“对象的描述”,将对象转化成一个字符串，一般用于 print 方法'''\n",
    "\n"
   ]
  },
  {
   "cell_type": "code",
   "execution_count": 93,
   "id": "29eb0011",
   "metadata": {},
   "outputs": [
    {
     "name": "stdout",
     "output_type": "stream",
     "text": [
      "[<class '__main__.C'>, <class '__main__.B'>, <class '__main__.A'>, <class 'object'>]\n"
     ]
    }
   ],
   "source": [
    "#mro()\n",
    "class A:pass\n",
    "class B(A):pass\n",
    "class C(B):pass\n",
    "\n",
    "print(C.mro())"
   ]
  },
  {
   "cell_type": "code",
   "execution_count": 1,
   "id": "d2662a0f",
   "metadata": {},
   "outputs": [
    {
     "name": "stdout",
     "output_type": "stream",
     "text": [
      "['__class__', '__delattr__', '__dir__', '__doc__', '__eq__', '__format__', '__ge__', '__getattribute__', '__gt__', '__hash__', '__init__', '__init_subclass__', '__le__', '__lt__', '__ne__', '__new__', '__reduce__', '__reduce_ex__', '__repr__', '__setattr__', '__sizeof__', '__str__', '__subclasshook__']\n",
      "\n",
      "['__class__', '__delattr__', '__dict__', '__dir__', '__doc__', '__eq__', '__format__', '__ge__', '__getattribute__', '__gt__', '__hash__', '__init__', '__init_subclass__', '__le__', '__lt__', '__module__', '__ne__', '__new__', '__reduce__', '__reduce_ex__', '__repr__', '__setattr__', '__sizeof__', '__str__', '__subclasshook__', '__weakref__', 'age', 'name', 'say_age']\n"
     ]
    }
   ],
   "source": [
    "#dir()查看对象属性\n",
    "class Person:\n",
    "    \n",
    "    def __init__(self,name,age):\n",
    "        self.name = name\n",
    "        self.age = age\n",
    "    def say_age(self):\n",
    "        print(self.name,\"的年龄是：\",self.age)\n",
    "        \n",
    "obj = object()\n",
    "print(dir(obj))\n",
    "print()\n",
    "s2 = Person(\"高淇\",18)\n",
    "print(dir(s2))"
   ]
  },
  {
   "cell_type": "code",
   "execution_count": 78,
   "id": "49d4d964",
   "metadata": {},
   "outputs": [
    {
     "name": "stdout",
     "output_type": "stream",
     "text": [
      "名字是：高淇,年龄是18\n"
     ]
    }
   ],
   "source": [
    "#重写str()方法\n",
    "class Person:\n",
    "    def __init__(self,name,age):\n",
    "        self.name = name\n",
    "        self.__age = age\n",
    "    def __str__(self):\n",
    "        '''\n",
    "        将对象转化成一个字符串，一般用于 print 方法'''\n",
    "        return \"名字是：{0},年龄是{1}\".format(self.name,self.__age)\n",
    "    \n",
    "p = Person(\"高淇\",18)\n",
    "print(p)"
   ]
  },
  {
   "cell_type": "code",
   "execution_count": 79,
   "id": "2f29c921",
   "metadata": {},
   "outputs": [
    {
     "name": "stdout",
     "output_type": "stream",
     "text": [
      "[<class '__main__.C'>, <class '__main__.B'>, <class '__main__.A'>, <class 'object'>]\n",
      "say BBB!\n"
     ]
    }
   ],
   "source": [
    "#MRO()\n",
    "#多重继承\n",
    "class A:\n",
    "    def aa(self):\n",
    "        print(\"aa\")\n",
    "    def say(self):\n",
    "        print(\"say AAA!\")\n",
    "class B:\n",
    "    def bb(self):\n",
    "        print(\"bb\")\n",
    "    def say(self):\n",
    "        print(\"say BBB!\")\n",
    "class C(B,A):\n",
    "    def cc(self):\n",
    "        print(\"cc\")\n",
    "    \n",
    "c = C()\n",
    "print(C.mro())\n",
    "#打印类的层次结构\n",
    "c.say()\n",
    "#解释器寻找方法是“从左到右”的方式寻找，此时会执行 B类中的 say()"
   ]
  },
  {
   "cell_type": "code",
   "execution_count": 98,
   "id": "a3047f60",
   "metadata": {},
   "outputs": [
    {
     "name": "stdout",
     "output_type": "stream",
     "text": [
      "A:  <__main__.B object at 0x107e3a790>\n",
      "say AAA\n",
      "say BBB\n"
     ]
    }
   ],
   "source": [
    "#super(),获得父类的方法时\n",
    "class A:\n",
    "    def say(self):\n",
    "        print(\"A: \",self)\n",
    "        print(\"say AAA\")\n",
    "class B(A):\n",
    "    def say(self):\n",
    "        #A.say(self) #调用父类的 say 方法\n",
    "        super().say() #通过 super()调用父类的方法\n",
    "        print(\"say BBB\")\n",
    "    \n",
    "b = B()\n",
    "b.say()"
   ]
  },
  {
   "cell_type": "markdown",
   "id": "4cb86bac",
   "metadata": {},
   "source": [
    "多态（polymorphism）是指同一个方法调用由于对象不同可能会产生不同的行为。在现实\n",
    "\n",
    "关于多态要注意以下 2 点：\n",
    "1. 多态是方法的多态，属性没有多态。\n",
    "2. 多态的存在有 2 个必要条件：继承、方法重写。"
   ]
  },
  {
   "cell_type": "code",
   "execution_count": 104,
   "id": "0e289ddb",
   "metadata": {},
   "outputs": [
    {
     "name": "stdout",
     "output_type": "stream",
     "text": [
      "汪汪汪\n",
      "喵喵喵\n"
     ]
    }
   ],
   "source": [
    "#多态\n",
    "class Animal:\n",
    "    \n",
    "    def shout(self):\n",
    "        print('动物叫了一声！')\n",
    "\n",
    "class Cat(Animal):\n",
    "    def shout(self):\n",
    "        print('喵喵喵')\n",
    "\n",
    "class Dog(Animal):\n",
    "    def shout(self):\n",
    "        print('汪汪汪')\n",
    "\n",
    "def animalShout(a):\n",
    "    if isinstance(a,Animal):\n",
    "        a.shout() #传入的对象不同，shout 方法对应的实际行为也不同。\n",
    "        #isinstance()是Python中的一个内建函数。是用来判断一个对象的变量类型\n",
    "animalShout(Dog())\n",
    "animalShout(Cat())"
   ]
  },
  {
   "cell_type": "markdown",
   "id": "8c8f1dd6",
   "metadata": {},
   "source": [
    "特殊方法：__xxx__。重写特殊方法，即实现了“运算符的重载”。\n",
    "\n",
    "特殊属性"
   ]
  },
  {
   "cell_type": "code",
   "execution_count": 105,
   "id": "a34e31f5",
   "metadata": {},
   "outputs": [
    {
     "name": "stdout",
     "output_type": "stream",
     "text": [
      "高淇--高希希\n",
      "高淇高淇高淇\n"
     ]
    }
   ],
   "source": [
    "#测试运算符的重载\n",
    "class Person:\n",
    "    \n",
    "    def __init__(self,name):\n",
    "        self.name = name\n",
    "        \n",
    "    def __add__(self, other):\n",
    "        if isinstance(other,Person):\n",
    "            return\"{0}--{1}\".format(self.name,other.name)\n",
    "        else:\n",
    "            return \"不是同类对象，不能相加\"\n",
    "        \n",
    "    def __mul__(self, other):\n",
    "        if isinstance(other,int):\n",
    "            return self.name*other\n",
    "        else:\n",
    "            return \"不是同类对象，不能相乘\"\n",
    "        \n",
    "p1 = Person(\"高淇\")\n",
    "p2 = Person(\"高希希\")\n",
    "x = p1 + p2\n",
    "print(x)\n",
    "print(p1*3)"
   ]
  },
  {
   "cell_type": "code",
   "execution_count": 106,
   "id": "fee39e1b",
   "metadata": {},
   "outputs": [
    {
     "name": "stdout",
     "output_type": "stream",
     "text": [
      "['__class__', '__delattr__', '__dict__', '__dir__', '__doc__', '__eq__', '__format__', '__ge__', '__getattribute__', '__gt__', '__hash__', '__init__', '__init_subclass__', '__le__', '__lt__', '__module__', '__ne__', '__new__', '__reduce__', '__reduce_ex__', '__repr__', '__setattr__', '__sizeof__', '__str__', '__subclasshook__', '__weakref__', 'cc', 'nn']\n",
      "\n",
      "{'nn': 3}\n",
      "\n",
      "<class '__main__.C'>\n",
      "\n",
      "(<class '__main__.B'>, <class '__main__.A'>)\n",
      "\n",
      "[<class '__main__.C'>, <class '__main__.B'>, <class '__main__.A'>, <class 'object'>]\n",
      "\n",
      "[<class '__main__.C'>]\n"
     ]
    }
   ],
   "source": [
    "#测试特殊属性\n",
    "class A:\n",
    "    pass\n",
    "class B:\n",
    "    pass\n",
    "class C(B,A):\n",
    "    def __init__(self,nn):\n",
    "        self.nn = nn\n",
    "    def cc(self):\n",
    "        print(\"cc\")\n",
    "c = C(3)\n",
    "print(dir(c))\n",
    "print()\n",
    "print(c.__dict__)\n",
    "print()\n",
    "print(c.__class__)\n",
    "print()\n",
    "print(C.__bases__)\n",
    "print()\n",
    "print(C.mro())\n",
    "print()\n",
    "print(A.__subclasses__())"
   ]
  },
  {
   "cell_type": "markdown",
   "id": "479262a3",
   "metadata": {},
   "source": [
    "·\n",
    "变量的赋值操作\n",
    "只是形成两个变量，实际还是指向同一个对象。\n",
    "\n",
    "·\n",
    "浅拷贝\n",
    "Python 拷贝一般都是浅拷贝。拷贝时，对象包含的子对象内容不拷贝。因此，源对象\n",
    "和拷贝对象会引用同一个子对象。\n",
    "\n",
    "·\n",
    "深拷贝\n",
    "使用 copy 模块的 deepcopy 函数，递归拷贝对象中包含的子对象。源对象和拷贝对象\n",
    "所有的子对象也不同。"
   ]
  },
  {
   "cell_type": "code",
   "execution_count": 2,
   "id": "7873d4f2",
   "metadata": {},
   "outputs": [
    {
     "name": "stdout",
     "output_type": "stream",
     "text": [
      "计算，算个 12345\n",
      "CPU 对象: <__main__.CPU object at 0x000001F2E6A43E80>\n",
      "\n",
      "<__main__.MobilePhone object at 0x000001F2E6A43C10> <__main__.MobilePhone object at 0x000001F2E6A43C10>\n",
      "\n",
      "---浅拷贝\n",
      "<__main__.MobilePhone object at 0x000001F2E6A43C10> <__main__.MobilePhone object at 0x000001F2E6A2F880>\n",
      "\n",
      "计算，算个 12345\n",
      "CPU 对象: <__main__.CPU object at 0x000001F2E6A43E80>\n",
      "计算，算个 12345\n",
      "CPU 对象: <__main__.CPU object at 0x000001F2E6A43E80>\n",
      "\n",
      "---深拷贝\n",
      "计算，算个 12345\n",
      "CPU 对象: <__main__.CPU object at 0x000001F2E6A377F0>\n"
     ]
    }
   ],
   "source": [
    "#有问题？\n",
    "#对象的浅拷贝和深拷贝\n",
    "import copy\n",
    "class MobilePhone:\n",
    "    \n",
    "    def __init__(self,cpu,screen):\n",
    "        self.cpu = cpu\n",
    "        self.screen = screen\n",
    "    \n",
    "class CPU:\n",
    "    def calculate(self):\n",
    "        print(\"计算，算个 12345\")\n",
    "        print(\"CPU 对象:\",self)\n",
    "        \n",
    "class Screen:\n",
    "    def show(self):\n",
    "        print(\"显示一个好看的画面，亮瞎你的钛合金大眼\")\n",
    "        print(\"屏幕对象：\",self)\n",
    "        \n",
    "c = CPU()\n",
    "s = Screen()\n",
    "m = MobilePhone(c,s)\n",
    "m.cpu.calculate()\n",
    "print()\n",
    "\n",
    "n=m#两个变量，但是指向了同一个对象\n",
    "print(m,n)\n",
    "print()\n",
    "\n",
    "print('---浅拷贝')\n",
    "m2 = copy.copy(m) #m2 是新拷贝的另一个手机对象\n",
    "print(m,m2)\n",
    "print()\n",
    "\n",
    "m.cpu.calculate()\n",
    "m2.cpu.calculate() #m2 和 m 拥有了一样的 cpu 对象和 screen 对象\n",
    "print()\n",
    "\n",
    "print('---深拷贝')\n",
    "m3 = copy.deepcopy(m)\n",
    "m3.cpu.calculate() #m3 和 m 拥有不一样的 cpu 对象和 screen对象"
   ]
  },
  {
   "cell_type": "code",
   "execution_count": 114,
   "id": "105fdc87",
   "metadata": {},
   "outputs": [
    {
     "name": "stdout",
     "output_type": "stream",
     "text": [
      "计算，算个 12345\n",
      "CPU 对象: <__main__.CPU object at 0x107e3a760>\n",
      "\n",
      "显示一个好看的画面，亮瞎你的钛合金大眼\n",
      "屏幕对象： <__main__.Screen object at 0x107e3a1f0>\n"
     ]
    }
   ],
   "source": [
    "#组合\n",
    "class MobilePhone:\n",
    "    \n",
    "    def __init__(self,cpu,screen):\n",
    "        self.cpu = cpu\n",
    "        self.screen = screen\n",
    "    \n",
    "class CPU:\n",
    "    def calculate(self):\n",
    "        print(\"计算，算个 12345\")\n",
    "        print(\"CPU 对象:\",self)\n",
    "        \n",
    "class Screen:\n",
    "    def show(self):\n",
    "        print(\"显示一个好看的画面，亮瞎你的钛合金大眼\")\n",
    "        print(\"屏幕对象：\",self)\n",
    "        \n",
    "c = CPU()\n",
    "s = Screen()\n",
    "m = MobilePhone(c,s)\n",
    "m.cpu.calculate()#通过组合，我们也能调用 cpu 对象的方法。相当于手机对象间接拥有了“cpu 的方法”\n",
    "print()\n",
    "m.screen.show()"
   ]
  },
  {
   "cell_type": "code",
   "execution_count": null,
   "id": "b4ef79ad",
   "metadata": {},
   "outputs": [],
   "source": [
    "设计模式：工厂模式和单例模式。"
   ]
  },
  {
   "cell_type": "markdown",
   "id": "31d82685",
   "metadata": {},
   "source": [
    "实操作业"
   ]
  },
  {
   "cell_type": "code",
   "execution_count": 123,
   "id": "b4ca0d29",
   "metadata": {},
   "outputs": [
    {
     "name": "stdout",
     "output_type": "stream",
     "text": [
      "发动机\n",
      "底盘\n",
      "座椅\n",
      "车辆外壳\n"
     ]
    }
   ],
   "source": [
    "#有问题？\n",
    "\n",
    "#2. 定义发动机类 Motor、底盘类 Chassis、座椅类 Seat，车辆外壳类 Shell，并使用组合\n",
    "#关系定义汽车类。其他要求如下：\n",
    "#定义汽车的 run()方法，里面需要调用 Motor 类的 work()方法，也需要调用座椅\n",
    "#类 Seat 的 work()方法，也需要调用底盘类 Chassis 的 work()方法。\n",
    "class Car:\n",
    "    \n",
    "    def __init__(self,m,c,s,shell):\n",
    "        self.motor=m\n",
    "        self.chassis=c\n",
    "        self.seat=s\n",
    "        self.shell=shell\n",
    "    \n",
    "    def run(self):\n",
    "        Motor.work(self)\n",
    "        Chassis.work(self)\n",
    "        Seat.work(self)\n",
    "        Shell.work(self)\n",
    "        \n",
    "class Motor:\n",
    "    def work(self):\n",
    "        print('发动机')\n",
    "\n",
    "class Chassis:\n",
    "    def work(self):\n",
    "        print('底盘')\n",
    "\n",
    "class Seat:\n",
    "    def work(self):\n",
    "        print('座椅')\n",
    "\n",
    "class Shell:\n",
    "    def work(self):\n",
    "        print('车辆外壳')\n",
    "        \n",
    "m = Motor()\n",
    "c = Chassis()\n",
    "s = Seat()\n",
    "shell=Shell()\n",
    "\n",
    "car1=Car(m,c,s,shell)\n",
    "\n",
    "# car1.motor.work()\n",
    "car1.run()"
   ]
  },
  {
   "cell_type": "code",
   "execution_count": 155,
   "id": "5929582c",
   "metadata": {},
   "outputs": [
    {
     "name": "stdout",
     "output_type": "stream",
     "text": [
      "<__main__.lx object at 0x1082dfd60>\n",
      "联想calculate\n"
     ]
    }
   ],
   "source": [
    "#有问题，单例模式不理解\n",
    "\n",
    "#3. 使用工厂模式、单例模式实现如下需求：\n",
    "#(1) 电脑工厂类 ComputerFactory 用于生产电脑 Computer。工厂类使用单例模式，\n",
    "#也就是说只能有一个工厂对象。\n",
    "#(2) 工厂类中可以生产各种品牌的电脑：联想、华硕、神舟\n",
    "#(3) 各种品牌的电脑使用继承实现：\n",
    "#(4) 父类是 Computer 类，定义了 calculate 方法\n",
    "#(5) 各品牌电脑类需要重写父类的 calculate 方法\n",
    "\n",
    "class ComputerFactory:\n",
    "    def create_computer(self,brand):\n",
    "        if brand=='联想':\n",
    "            return lx()\n",
    "        elif brand=='华硕':\n",
    "            return hs()\n",
    "        elif brand=='神舟':\n",
    "            return sz()\n",
    "        else:\n",
    "            return '未知品牌'\n",
    "        \n",
    "class Computer:\n",
    "    def calculate(self):\n",
    "        return '电脑calculate'\n",
    "\n",
    "class lx(Computer):\n",
    "    def calculate(self):\n",
    "        return '联想calculate'\n",
    "\n",
    "class hs(Computer):\n",
    "    def calculate(self):\n",
    "        return '华硕calculate'\n",
    "\n",
    "class sz(Computer):\n",
    "    def calculate(self):\n",
    "        return '神州calculate'\n",
    "\n",
    "c = ComputerFactory()\n",
    "a=c.create_computer('联想')\n",
    "print(a)\n",
    "print(a.calculate())"
   ]
  },
  {
   "cell_type": "code",
   "execution_count": 100,
   "id": "5c58dbbb",
   "metadata": {},
   "outputs": [
    {
     "name": "stdout",
     "output_type": "stream",
     "text": [
      "-2000\n",
      "调用了1002个对象\n"
     ]
    }
   ],
   "source": [
    "#有问题？为啥不能打印薪水错误\n",
    "#4. 定义一个 Employee 雇员类，要求如下：\n",
    "#(1) 属性有：id、name、salary\n",
    "#(2) 运算符重载+：实现两个对象相加时，默认返回他们的薪水和\n",
    "#(3) 构造方法要求：输入 name、salary，不输入 id。id 采用自增的方式，从 1000 开\n",
    "#始自增，第一个新增对象是 1001，第二个新增对象是 1002。\n",
    "#(4) 根据 salary 属性，使用@property 设置属性的 get 和 set 方法。set 方法要求输\n",
    "#入：1000-50000 范围的数字。\n",
    "\n",
    "class Employee:\n",
    "    \n",
    "    id=1000\n",
    "    \n",
    "    def __init__(self,name,salary):\n",
    "        self.name=name\n",
    "        self.salary=salary\n",
    "        Employee.id +=1\n",
    "        \n",
    "    def __add__(a,b):\n",
    "        print(a.salary+b.salary)\n",
    "    \n",
    "    @property\n",
    "    def say_salary(self):\n",
    "        print('调用了{}个对象'.format(Employee.id))\n",
    "        \n",
    "    @say_salary.setter\n",
    "    def say_salary(self,salary):\n",
    "        if salary>0:\n",
    "            self.salary=salary\n",
    "        else:\n",
    "            print('薪水错误')\n",
    "    \n",
    "e1=Employee('张三',-5000)\n",
    "e2=Employee('张片',3000)\n",
    "e=e1+e2\n",
    "\n",
    "e2.say_salary\n"
   ]
  },
  {
   "cell_type": "code",
   "execution_count": 4,
   "id": "2ee90792",
   "metadata": {},
   "outputs": [
    {
     "name": "stdout",
     "output_type": "stream",
     "text": [
      "-2000\n",
      "调用了1002个对象\n"
     ]
    }
   ],
   "source": [
    "class Employee:\n",
    "    \n",
    "    id=1000\n",
    "    \n",
    "    def __init__(self,name,salary):\n",
    "        self.name=name\n",
    "        self.salary=salary\n",
    "        Employee.id +=1\n",
    "    \n",
    "    #重写用self,other\n",
    "    def __add__(self,other):\n",
    "        print(self.salary+other.salary)\n",
    "    \n",
    "    @property\n",
    "    def say_salary(self):\n",
    "        print('调用了{}个对象'.format(Employee.id))\n",
    "        \n",
    "    @say_salary.setter\n",
    "    def say_salary(self,salary):\n",
    "        if salary>0:\n",
    "            self.salary=salary\n",
    "        else:\n",
    "            print('薪水错误')\n",
    "    \n",
    "e1=Employee('张三',-5000)\n",
    "e2=Employee('张片',3000)\n",
    "e=e1+e2\n",
    "\n",
    "e2.say_salary"
   ]
  }
 ],
 "metadata": {
  "kernelspec": {
   "display_name": "Python 3 (ipykernel)",
   "language": "python",
   "name": "python3"
  },
  "language_info": {
   "codemirror_mode": {
    "name": "ipython",
    "version": 3
   },
   "file_extension": ".py",
   "mimetype": "text/x-python",
   "name": "python",
   "nbconvert_exporter": "python",
   "pygments_lexer": "ipython3",
   "version": "3.9.13"
  }
 },
 "nbformat": 4,
 "nbformat_minor": 5
}
